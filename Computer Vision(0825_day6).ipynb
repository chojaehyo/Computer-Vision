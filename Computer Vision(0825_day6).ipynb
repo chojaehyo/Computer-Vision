{
 "cells": [
  {
   "cell_type": "markdown",
   "id": "c4a71b24",
   "metadata": {},
   "source": [
    "* 캐니 에지 검출기"
   ]
  },
  {
   "cell_type": "code",
   "execution_count": 1,
   "id": "d5bbc8b3",
   "metadata": {},
   "outputs": [],
   "source": [
    "import cv2\n",
    "import numpy as np"
   ]
  },
  {
   "cell_type": "code",
   "execution_count": 144,
   "id": "8dc3c323",
   "metadata": {},
   "outputs": [],
   "source": [
    "src = cv2.imread('./data/lena.jpg', cv2.IMREAD_GRAYSCALE)"
   ]
  },
  {
   "cell_type": "code",
   "execution_count": 145,
   "id": "6cf86b27",
   "metadata": {},
   "outputs": [],
   "source": [
    "edges1 = cv2.Canny(src, 50, 100) # 최소값, 최댓값 1:2, 1:3 비율 권장\n",
    "edges2 = cv2.Canny(src, 50, 150)\n",
    "edges3 = cv2.Canny(src, 50, 200)\n",
    "\n",
    "cv2.imshow('edges1', edges1)\n",
    "cv2.imshow('edges2', edges2)\n",
    "cv2.imshow('edges3', edges3)\n",
    "cv2.waitKey()\n",
    "cv2.destroyAllWindows()"
   ]
  },
  {
   "cell_type": "markdown",
   "id": "21e32f86",
   "metadata": {},
   "source": [
    "* 허프 변환 직선 검출"
   ]
  },
  {
   "cell_type": "code",
   "execution_count": 2,
   "id": "8b2d6e79",
   "metadata": {},
   "outputs": [],
   "source": [
    "src = cv2.imread('./data/rect.jpg')"
   ]
  },
  {
   "cell_type": "code",
   "execution_count": 3,
   "id": "56da2b69",
   "metadata": {},
   "outputs": [],
   "source": [
    "gray = cv2.cvtColor(src, cv2.COLOR_BGR2GRAY)"
   ]
  },
  {
   "cell_type": "code",
   "execution_count": 4,
   "id": "fe7033cb",
   "metadata": {},
   "outputs": [],
   "source": [
    "edges = cv2.Canny(gray, 50, 100)\n",
    "lines = cv2.HoughLines(edges, rho=1, theta=np.pi/180.0, threshold=100) "
   ]
  },
  {
   "cell_type": "code",
   "execution_count": 5,
   "id": "d9cd362b",
   "metadata": {},
   "outputs": [
    {
     "name": "stdout",
     "output_type": "stream",
     "text": [
      "x0, y0 -1.4337335e-05 328.0\n",
      "x1, y1 -1000 327\n",
      "x2, y2 999 328\n",
      "x0, y0 356.0 0.0\n",
      "x1, y1 356 1000\n",
      "x2, y2 356 -1000\n",
      "x0, y0 -5.0268095e-06 115.0\n",
      "x1, y1 -1000 114\n",
      "x2, y2 999 115\n",
      "x0, y0 137.0 0.0\n",
      "x1, y1 137 1000\n",
      "x2, y2 137 -1000\n"
     ]
    }
   ],
   "source": [
    "for line in lines:\n",
    "    rho, theta   = line[0]\n",
    "    c = np.cos(theta)\n",
    "    s = np.sin(theta)\n",
    "    x0 = c*rho\n",
    "    y0  = s*rho\n",
    "    print(\"x0, y0\", x0, y0)\n",
    "    x1 = int(x0 + 1000*(-s))\n",
    "    y1 = int(y0 + 1000*(c))\n",
    "    print(\"x1, y1\", x1, y1)\n",
    "    x2 = int(x0 - 1000*(-s))\n",
    "    y2 = int(y0 - 1000*(c))\n",
    "    print(\"x2, y2\", x2, y2)\n",
    "    cv2.line(src, (x1,y1), (x2,y2), (0,0,255), 2)\n"
   ]
  },
  {
   "cell_type": "code",
   "execution_count": 6,
   "id": "5a9ed89f",
   "metadata": {},
   "outputs": [],
   "source": [
    "cv2.imshow('src', src)\n",
    "cv2.imshow('edges', edges)\n",
    "cv2.waitKey()\n",
    "cv2.destroyAllWindows()"
   ]
  },
  {
   "cell_type": "code",
   "execution_count": 9,
   "id": "d9f8ac5a",
   "metadata": {},
   "outputs": [],
   "source": [
    "src = cv2.imread('./data/building.jpg', cv2.IMREAD_GRAYSCALE)\n",
    "\n",
    "edges = cv2.Canny(src, 50, 100)\n",
    "lines= cv2.HoughLines(edges, 1, np.pi/180, 150)"
   ]
  },
  {
   "cell_type": "code",
   "execution_count": 10,
   "id": "5dd991a4",
   "metadata": {},
   "outputs": [
    {
     "data": {
      "text/plain": [
       "(2213, 1, 2)"
      ]
     },
     "execution_count": 10,
     "metadata": {},
     "output_type": "execute_result"
    }
   ],
   "source": [
    "lines.shape"
   ]
  },
  {
   "cell_type": "code",
   "execution_count": 52,
   "id": "b0142902",
   "metadata": {},
   "outputs": [],
   "source": [
    "src = cv2.imread('./data/building.jpg')\n",
    "gray = cv2.cvtColor(src, cv2.COLOR_BGR2GRAY)\n",
    "edges = cv2.Canny(gray, 50, 100)\n",
    "\n",
    "lines= cv2.HoughLinesP(edges, 1, np.pi/180, threshold=160, minLineLength=50, maxLineGap=5)\n",
    "dst = cv2.cvtColor(edges, cv2.COLOR_GRAY2BGR)\n",
    "\n",
    "for line in lines:\n",
    "    x1, y1, x2, y2 = line[0]\n",
    "    cv2.line(dst, (x1, y1), (x2, y2), (0, 0, 255), 2)\n",
    "    \n",
    "cv2.imshow('src', src)\n",
    "cv2.imshow('dst', dst)\n",
    "cv2.waitKey()\n",
    "cv2.destroyAllWindows()"
   ]
  },
  {
   "cell_type": "markdown",
   "id": "6fbc77b6",
   "metadata": {},
   "source": [
    "* 허프 변환 원 검출"
   ]
  },
  {
   "cell_type": "code",
   "execution_count": 80,
   "id": "a1f9f111",
   "metadata": {},
   "outputs": [],
   "source": [
    "src = cv2.imread('./data/circles.jpg')\n",
    "gray = cv2.cvtColor(src, cv2.COLOR_BGR2GRAY)\n",
    "\n",
    "circles = cv2.HoughCircles(gray, method=cv2.HOUGH_GRADIENT, dp=1, minDist=50, param2=15)\n",
    "\n",
    "for circle in circles[0]:\n",
    "    cx, cy, r = circle\n",
    "    cv2.circle(src, (np.uint32(cx), np.uint32(cy)), np.uint32(r), (0, 0, 255), 2)\n",
    "\n",
    "cv2.imshow('src', src)\n",
    "cv2.waitKey()\n",
    "cv2.destroyAllWindows()"
   ]
  },
  {
   "cell_type": "code",
   "execution_count": 111,
   "id": "2a93bc12",
   "metadata": {},
   "outputs": [],
   "source": [
    "src = cv2.imread('./data/circles2.jpg')\n",
    "gray = cv2.cvtColor(src, cv2.COLOR_BGR2GRAY)\n",
    "\n",
    "circles = cv2.HoughCircles(gray, method=cv2.HOUGH_GRADIENT, dp=1, minDist=50, param2=15, minRadius=30, maxRadius=150)\n",
    "\n",
    "for circle in circles[0]:\n",
    "    cx, cy, r = circle\n",
    "    cv2.circle(src, (np.uint32(cx), np.uint32(cy)), np.uint32(r), (0, 0, 255), 2)\n",
    "\n",
    "cv2.imshow('src', src)\n",
    "cv2.waitKey()\n",
    "cv2.destroyAllWindows()"
   ]
  },
  {
   "cell_type": "code",
   "execution_count": 142,
   "id": "0a9552fa",
   "metadata": {},
   "outputs": [],
   "source": [
    "src = cv2.imread('./data/coins.png')\n",
    "gray = cv2.cvtColor(src, cv2.COLOR_BGR2GRAY)\n",
    "\n",
    "circles = cv2.HoughCircles(gray, method=cv2.HOUGH_GRADIENT, dp=1, minDist=50, param2=15, minRadius=20, maxRadius=40)\n",
    "\n",
    "for circle in circles[0]:\n",
    "    cx, cy, r = circle\n",
    "    cv2.circle(src, (np.uint32(cx), np.uint32(cy)), np.uint32(r), (0, 0, 255), 2)\n",
    "\n",
    "cv2.imshow('src', src)\n",
    "cv2.waitKey()\n",
    "cv2.destroyAllWindows()"
   ]
  },
  {
   "cell_type": "code",
   "execution_count": null,
   "id": "4a9bff24",
   "metadata": {},
   "outputs": [],
   "source": []
  }
 ],
 "metadata": {
  "kernelspec": {
   "display_name": "Python 3",
   "language": "python",
   "name": "python3"
  },
  "language_info": {
   "codemirror_mode": {
    "name": "ipython",
    "version": 3
   },
   "file_extension": ".py",
   "mimetype": "text/x-python",
   "name": "python",
   "nbconvert_exporter": "python",
   "pygments_lexer": "ipython3",
   "version": "3.8.8"
  }
 },
 "nbformat": 4,
 "nbformat_minor": 5
}
