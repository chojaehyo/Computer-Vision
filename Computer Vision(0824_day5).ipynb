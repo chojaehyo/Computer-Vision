{
 "cells": [
  {
   "cell_type": "markdown",
   "id": "47676fc2",
   "metadata": {},
   "source": [
    "## 영상의 필터링"
   ]
  },
  {
   "cell_type": "markdown",
   "id": "c88aabd7",
   "metadata": {},
   "source": [
    "* 엠보싱 필터"
   ]
  },
  {
   "cell_type": "code",
   "execution_count": 3,
   "id": "67d5dc41",
   "metadata": {},
   "outputs": [],
   "source": [
    "import cv2\n",
    "import numpy as np"
   ]
  },
  {
   "cell_type": "code",
   "execution_count": 9,
   "id": "8a6a0e26",
   "metadata": {},
   "outputs": [],
   "source": [
    "img = cv2.imread('./data/rose.bmp')\n",
    "gray = cv2.cvtColor(img, cv2.COLOR_BGR2GRAY)\n",
    "\n",
    "mask = np.array([[-1, -1, 0], [-1, 0, 1], [0, 1, 1]])\n",
    "out = cv2.filter2D(gray, -1, mask) # -1 : src와 output 채널 같게 하겠다.\n",
    "\n",
    "cv2.imshow('img', img)\n",
    "cv2.imshow('out', out)\n",
    "\n",
    "cv2.waitKey()\n",
    "cv2.destroyAllWindows()"
   ]
  },
  {
   "cell_type": "code",
   "execution_count": 6,
   "id": "89a76e68",
   "metadata": {},
   "outputs": [
    {
     "data": {
      "text/plain": [
       "(320, 480, 3)"
      ]
     },
     "execution_count": 6,
     "metadata": {},
     "output_type": "execute_result"
    }
   ],
   "source": [
    "img.shape"
   ]
  },
  {
   "cell_type": "markdown",
   "id": "00fbca8e",
   "metadata": {},
   "source": [
    "* 평균값 필터(blur, boxFilter)"
   ]
  },
  {
   "cell_type": "code",
   "execution_count": 10,
   "id": "8f02aa96",
   "metadata": {},
   "outputs": [],
   "source": [
    "src = cv2.imread('./data/lena.jpg', cv2.IMREAD_GRAYSCALE)\n",
    "\n",
    "dst = cv2.blur(src, ksize=(5, 5))\n",
    "\n",
    "cv2.imshow('src', src)\n",
    "cv2.imshow('dst', dst)\n",
    "cv2.waitKey()\n",
    "cv2.destroyAllWindows()"
   ]
  },
  {
   "cell_type": "code",
   "execution_count": 11,
   "id": "1e6be0bf",
   "metadata": {},
   "outputs": [],
   "source": [
    "src = cv2.imread('./data/lena.jpg', cv2.IMREAD_GRAYSCALE)\n",
    "\n",
    "dst = cv2.boxFilter(src, -1, ksize=(5, 5))\n",
    "\n",
    "cv2.imshow('src', src)\n",
    "cv2.imshow('dst', dst)\n",
    "cv2.waitKey()\n",
    "cv2.destroyAllWindows()"
   ]
  },
  {
   "cell_type": "markdown",
   "id": "4ae33ace",
   "metadata": {},
   "source": [
    "* 가우시안 필터"
   ]
  },
  {
   "cell_type": "code",
   "execution_count": 14,
   "id": "74397be2",
   "metadata": {},
   "outputs": [],
   "source": [
    "src = cv2.imread('./data/lena.jpg', cv2.IMREAD_GRAYSCALE)\n",
    "dst = cv2.GaussianBlur(src, ksize=(7, 7), sigmaX=0, sigmaY=0)\n",
    "\n",
    "cv2.imshow('src', src)\n",
    "cv2.imshow('dst', dst)\n",
    "cv2.waitKey()\n",
    "cv2.destroyAllWindows()"
   ]
  },
  {
   "cell_type": "code",
   "execution_count": 17,
   "id": "e4b50a38",
   "metadata": {},
   "outputs": [],
   "source": [
    "img = cv2.imread('./data/rose.bmp', cv2.IMREAD_GRAYSCALE)\n",
    "\n",
    "for i in range(3):\n",
    "    dst = cv2.GaussianBlur(img, ksize=(7, 7), sigmaX=(i+1))\n",
    "    cv2.imshow(f'sigmaX = {i+1}', dst)\n",
    "cv2.imshow('img', img)\n",
    "cv2.waitKey()\n",
    "cv2.destroyAllWindows()"
   ]
  },
  {
   "cell_type": "markdown",
   "id": "930c220c",
   "metadata": {},
   "source": [
    "* 언샤프 마스크 필터"
   ]
  },
  {
   "cell_type": "code",
   "execution_count": 2,
   "id": "fa8c2626",
   "metadata": {},
   "outputs": [],
   "source": [
    "img = cv2.imread('./data/rose.bmp', cv2.IMREAD_GRAYSCALE)\n",
    "\n",
    "for i in range(3):\n",
    "    blurred = cv2.GaussianBlur(img, ksize=(7, 7), sigmaX=(i+1))\n",
    "    alpha = 1.0\n",
    "    dst = (1+alpha)*img - (alpha*blurred)\n",
    "    dst = np.uint8(dst)\n",
    "    cv2.imshow(f'sigmaX={i+1}', dst)\n",
    "    \n",
    "cv2.waitKey()\n",
    "cv2.destroyAllWindows()"
   ]
  },
  {
   "cell_type": "markdown",
   "id": "29cf0e84",
   "metadata": {},
   "source": [
    "* 양방향 필터"
   ]
  },
  {
   "cell_type": "code",
   "execution_count": 9,
   "id": "2ec94540",
   "metadata": {},
   "outputs": [],
   "source": [
    "src = cv2.imread('./data/lena.jpg', cv2.IMREAD_GRAYSCALE)\n",
    "\n",
    "data = np.zeros(src.shape, dtype=np.uint8)\n",
    "noise = cv2.randn(data, mean=0, stddev=10)\n",
    "\n",
    "src_noise = cv2.add(src, noise)\n",
    "\n",
    "dst1 = cv2.GaussianBlur(src_noise, ksize=(7, 7), sigmaX=10)\n",
    "dst2 = cv2.bilateralFilter(src_noise, -1, sigmaColor=10, sigmaSpace=10)\n",
    "\n",
    "cv2.imshow('src', src)\n",
    "cv2.imshow('src_noise', src_noise)\n",
    "cv2.imshow('dst1', dst1)\n",
    "cv2.imshow('dst2', dst2)\n",
    "\n",
    "cv2.waitKey()\n",
    "cv2.destroyAllWindows()"
   ]
  },
  {
   "cell_type": "markdown",
   "id": "e28eca09",
   "metadata": {},
   "source": [
    "* 미디언 필터"
   ]
  },
  {
   "cell_type": "code",
   "execution_count": 18,
   "id": "85c2f028",
   "metadata": {},
   "outputs": [],
   "source": [
    "src = cv2.imread('./data/Lena.bmp', cv2.IMREAD_GRAYSCALE)\n",
    "\n",
    "num = src.shape[0] * src.shape[1] * 0.1\n",
    "\n",
    "for i in range(np.int64(num)):\n",
    "    x = np.random.randint(src.shape[1])\n",
    "    y = np.random.randint(src.shape[0])\n",
    "    \n",
    "    src[y, x] = (i % 2) * 255\n",
    "\n",
    "gaussian = cv2.GaussianBlur(src, ksize=(7, 7), sigmaX=5)\n",
    "median = cv2.medianBlur(src, ksize=7)\n",
    "    \n",
    "cv2.imshow('src', src)\n",
    "cv2.imshow('gaussian', gaussian)\n",
    "cv2.imshow('median', median)\n",
    "\n",
    "cv2.waitKey()\n",
    "cv2.destroyAllWindows()"
   ]
  },
  {
   "cell_type": "markdown",
   "id": "f97a0516",
   "metadata": {},
   "source": [
    "## 모폴로지 연산"
   ]
  },
  {
   "cell_type": "code",
   "execution_count": 27,
   "id": "7fc442b0",
   "metadata": {},
   "outputs": [],
   "source": [
    "src = cv2.imread('./data/morphology.jpg', cv2.IMREAD_GRAYSCALE)\n",
    "\n",
    "kernel = cv2.getStructuringElement(shape=cv2.MORPH_RECT, ksize=(3, 3))\n",
    "erode = cv2.erode(src, kernel, iterations=5)\n",
    "dilate = cv2.dilate(src, kernel, iterations=5)\n",
    "\n",
    "cv2.imshow('src', src)\n",
    "cv2.imshow('erode', erode)\n",
    "cv2.imshow('dilate', dilate)\n",
    "cv2.waitKey()\n",
    "cv2.destroyAllWindows()"
   ]
  },
  {
   "cell_type": "markdown",
   "id": "0e21d17f",
   "metadata": {},
   "source": [
    "* 열기와 닫기"
   ]
  },
  {
   "cell_type": "code",
   "execution_count": 32,
   "id": "31297c6e",
   "metadata": {},
   "outputs": [],
   "source": [
    "src = cv2.imread('./data/morphology.jpg', cv2.IMREAD_GRAYSCALE)\n",
    "\n",
    "kernel = cv2.getStructuringElement(shape=cv2.MORPH_RECT, ksize=(3, 3))\n",
    "closing = cv2.morphologyEx(src, cv2.MORPH_CLOSE, kernel, iterations=4)\n",
    "opening = cv2.morphologyEx(src, cv2.MORPH_OPEN, kernel, iterations=4)\n",
    "open_close = cv2.morphologyEx(opening, cv2.MORPH_CLOSE, kernel, iterations=4)\n",
    "\n",
    "cv2.imshow('src', src)\n",
    "cv2.imshow('closing', closing)\n",
    "cv2.imshow('opening', opening)\n",
    "cv2.imshow('open_close', open_close)\n",
    "cv2.waitKey()\n",
    "cv2.destroyAllWindows()"
   ]
  },
  {
   "cell_type": "markdown",
   "id": "1a10d692",
   "metadata": {},
   "source": [
    "## 에지 검출과 응용"
   ]
  },
  {
   "cell_type": "markdown",
   "id": "698fb3ce",
   "metadata": {},
   "source": [
    "* 미분 필터"
   ]
  },
  {
   "cell_type": "code",
   "execution_count": 14,
   "id": "c206aad7",
   "metadata": {},
   "outputs": [],
   "source": [
    "src = cv2.imread('./data/rect.jpg', cv2.IMREAD_GRAYSCALE)\n",
    "# src = cv2.imread('./data/lena.jpg', cv2.IMREAD_GRAYSCALE)\n",
    "\n",
    "gx = cv2.Sobel(src, cv2.CV_32F, 1, 0, ksize=3) # 1, 0 : x축, y축 (x축 방향으로 미분)\n",
    "gy = cv2.Sobel(src, cv2.CV_32F, 0, 1, ksize=3) # 0, 1 : x축, y축 (y축 방향으로 미분)\n",
    "\n",
    "dstX = cv2.sqrt(np.abs(gx))\n",
    "dstX = cv2.normalize(dstX, None, 0, 255, cv2.NORM_MINMAX, dtype=cv2.CV_8U)\n",
    "\n",
    "dstY = cv2.sqrt(np.abs(gy))\n",
    "dstY = cv2.normalize(dstY, None, 0, 255, cv2.NORM_MINMAX, dtype=cv2.CV_8U)\n",
    "\n",
    "mag = cv2.magnitude(gx, gy)\n",
    "dstM = cv2.normalize(mag, None, 0, 255, cv2.NORM_MINMAX, dtype=cv2.CV_8U) # dstX, dstY 합친 것\n",
    "\n",
    "ret, edge = cv2.threshold(mag, 100, 255, cv2.THRESH_BINARY)\n",
    "edge = edge.astype(np.uint8)\n",
    "\n",
    "cv2.imshow('src', src)\n",
    "cv2.imshow('dstX', dstX)\n",
    "cv2.imshow('dstY', dstY)\n",
    "cv2.imshow('dstM', dstM)\n",
    "cv2.imshow('edge', edge)\n",
    "cv2.waitKey()\n",
    "cv2.destroyAllWindows()"
   ]
  },
  {
   "cell_type": "code",
   "execution_count": 23,
   "id": "0792aa5e",
   "metadata": {},
   "outputs": [],
   "source": [
    "src = cv2.imread('./data/lena.jpg', cv2.IMREAD_GRAYSCALE)\n",
    "\n",
    "blur = cv2.GaussianBlur(src, ksize=(7, 7), sigmaX=0)\n",
    "\n",
    "gx1 = cv2.Sobel(src, cv2.CV_32F, 1, 0, ksize=3)\n",
    "gy1 = cv2.Sobel(src, cv2.CV_32F, 0, 1, ksize=3)\n",
    "mag1, angle1 = cv2.cartToPolar(gx1, gy1, angleInDegrees=True) # False : radians(라디안 방식)\n",
    "\n",
    "gx2 = cv2.Sobel(blur, cv2.CV_32F, 1, 0, ksize=3)\n",
    "gy2 = cv2.Sobel(blur, cv2.CV_32F, 0, 1, ksize=3)\n",
    "mag2, angle2 = cv2.cartToPolar(gx2, gy2, angleInDegrees=True)\n",
    "\n",
    "ret1, edge1 = cv2.threshold(mag1, 100, 255, cv2.THRESH_BINARY)\n",
    "edge1 = edge1.astype(np.uint8)\n",
    "\n",
    "ret2, edge2 = cv2.threshold(mag2, 100, 255, cv2.THRESH_BINARY)\n",
    "edge2 = edge2.astype(np.uint8)\n",
    "\n",
    "cv2.imshow('edge1', edge1)\n",
    "cv2.imshow('edge2', edge2)\n",
    "cv2.waitKey()\n",
    "cv2.destroyAllWindows()"
   ]
  },
  {
   "cell_type": "code",
   "execution_count": null,
   "id": "931ffabd",
   "metadata": {},
   "outputs": [],
   "source": []
  }
 ],
 "metadata": {
  "kernelspec": {
   "display_name": "Python 3",
   "language": "python",
   "name": "python3"
  },
  "language_info": {
   "codemirror_mode": {
    "name": "ipython",
    "version": 3
   },
   "file_extension": ".py",
   "mimetype": "text/x-python",
   "name": "python",
   "nbconvert_exporter": "python",
   "pygments_lexer": "ipython3",
   "version": "3.8.8"
  }
 },
 "nbformat": 4,
 "nbformat_minor": 5
}
