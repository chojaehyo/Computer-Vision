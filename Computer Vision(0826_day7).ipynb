{
 "cells": [
  {
   "cell_type": "markdown",
   "id": "4750ede3",
   "metadata": {},
   "source": [
    "## 영상 분할"
   ]
  },
  {
   "cell_type": "markdown",
   "id": "7ea0e1bd",
   "metadata": {},
   "source": [
    "* 색상 범위 지정에 의한 영상 분할"
   ]
  },
  {
   "cell_type": "code",
   "execution_count": 2,
   "id": "a3898ae0",
   "metadata": {},
   "outputs": [],
   "source": [
    "import cv2\n",
    "import numpy as np"
   ]
  },
  {
   "cell_type": "code",
   "execution_count": 2,
   "id": "8238697c",
   "metadata": {},
   "outputs": [],
   "source": [
    "src = cv2.imread('./data/hand.jpg')\n",
    "\n",
    "hsv = cv2.cvtColor(src, cv2.COLOR_BGR2HSV)\n",
    "lowerb = (0, 40, 0)\n",
    "upperb = (50, 200, 255)\n",
    "\n",
    "dst = cv2.inRange(hsv, lowerb, upperb)\n",
    "\n",
    "cv2.imshow('dst', dst)\n",
    "cv2.waitKey()\n",
    "cv2.destroyAllWindows()"
   ]
  },
  {
   "cell_type": "code",
   "execution_count": 37,
   "id": "fd560e1e",
   "metadata": {},
   "outputs": [],
   "source": [
    "src = cv2.imread('./data/flower.jpg')\n",
    "\n",
    "hsv = cv2.cvtColor(src, cv2.COLOR_BGR2HSV)\n",
    "lowerb = (100, 100, 150)\n",
    "upperb = (200, 255, 255)\n",
    "\n",
    "dst = cv2.inRange(hsv, lowerb, upperb)\n",
    "\n",
    "cv2.imshow('dst', dst)\n",
    "cv2.waitKey()\n",
    "cv2.destroyAllWindows()"
   ]
  },
  {
   "cell_type": "code",
   "execution_count": 15,
   "id": "bc5c7fce",
   "metadata": {
    "scrolled": false
   },
   "outputs": [],
   "source": [
    "def onChange(pos):\n",
    "    global src\n",
    "    global hsv\n",
    "    \n",
    "    lower_h = cv2.getTrackbarPos(\"Lower H\", \"src\")\n",
    "    upper_h = cv2.getTrackbarPos(\"Upper H\", \"src\")\n",
    "    \n",
    "    dst = cv2.inRange(hsv, (lower_h, 100, 0), (upper_h, 255, 255))\n",
    "    \n",
    "    cv2.imshow(\"src\", src)\n",
    "    cv2.imshow(\"dst\", dst)\n",
    "    \n",
    "src = cv2.imread('./data/candies.png')\n",
    "\n",
    "hsv = cv2.cvtColor(src, cv2.COLOR_BGR2HSV)\n",
    "cv2.imshow('src', src)\n",
    "\n",
    "cv2.createTrackbar(\"Lower H\", \"src\", 0, 180, onChange)\n",
    "cv2.createTrackbar(\"Upper H\", \"src\", 0, 180, onChange)\n",
    "\n",
    "cv2.waitKey()\n",
    "cv2.destroyAllWindows()"
   ]
  },
  {
   "cell_type": "code",
   "execution_count": 16,
   "id": "abbf1d54",
   "metadata": {},
   "outputs": [],
   "source": [
    "def onChange(pos):\n",
    "    global src\n",
    "    global hsv\n",
    "    \n",
    "    lower_h = cv2.getTrackbarPos(\"Lower H\", \"src\")\n",
    "    upper_h = cv2.getTrackbarPos(\"Upper H\", \"src\")\n",
    "    lower_s = cv2.getTrackbarPos(\"Lower S\", \"src\")\n",
    "    upper_s = cv2.getTrackbarPos(\"Upper S\", \"src\")\n",
    "    lower_v = cv2.getTrackbarPos(\"Lower V\", \"src\")\n",
    "    upper_v = cv2.getTrackbarPos(\"Upper V\", \"src\")\n",
    "    \n",
    "    dst = cv2.inRange(hsv, (lower_h, 100, 0), (upper_h, 255, 255))\n",
    "    \n",
    "    cv2.imshow(\"src\", src)\n",
    "    cv2.imshow(\"dst\", dst)\n",
    "    \n",
    "src = cv2.imread('./data/candies.png')\n",
    "\n",
    "hsv = cv2.cvtColor(src, cv2.COLOR_BGR2HSV)\n",
    "cv2.imshow('src', src)\n",
    "\n",
    "cv2.createTrackbar(\"Lower H\", \"src\", 0, 255, onChange)\n",
    "cv2.createTrackbar(\"Upper H\", \"src\", 0, 255, onChange)\n",
    "cv2.createTrackbar(\"Lower S\", \"src\", 0, 255, onChange)\n",
    "cv2.createTrackbar(\"Upper S\", \"src\", 0, 255, onChange)\n",
    "cv2.createTrackbar(\"Lower V\", \"src\", 0, 255, onChange)\n",
    "cv2.createTrackbar(\"Upper V\", \"src\", 0, 255, onChange)\n",
    "\n",
    "cv2.waitKey()\n",
    "cv2.destroyAllWindows()"
   ]
  },
  {
   "cell_type": "code",
   "execution_count": null,
   "id": "eed23575",
   "metadata": {},
   "outputs": [],
   "source": []
  }
 ],
 "metadata": {
  "kernelspec": {
   "display_name": "Python 3",
   "language": "python",
   "name": "python3"
  },
  "language_info": {
   "codemirror_mode": {
    "name": "ipython",
    "version": 3
   },
   "file_extension": ".py",
   "mimetype": "text/x-python",
   "name": "python",
   "nbconvert_exporter": "python",
   "pygments_lexer": "ipython3",
   "version": "3.8.8"
  }
 },
 "nbformat": 4,
 "nbformat_minor": 5
}
