{
 "cells": [
  {
   "cell_type": "markdown",
   "id": "3ac0793f",
   "metadata": {},
   "source": [
    "## OpenCV 기본 연산"
   ]
  },
  {
   "cell_type": "code",
   "execution_count": 2,
   "id": "fde4e33a",
   "metadata": {},
   "outputs": [],
   "source": [
    "import cv2\n",
    "import numpy as np"
   ]
  },
  {
   "cell_type": "markdown",
   "id": "ed8de278",
   "metadata": {},
   "source": [
    "* 영상 연산(GrayScale)"
   ]
  },
  {
   "cell_type": "code",
   "execution_count": 20,
   "id": "406a160c",
   "metadata": {},
   "outputs": [],
   "source": [
    "src1 = cv2.imread('./data/lena.jpg', cv2.IMREAD_GRAYSCALE)\n",
    "src2 = np.zeros(shape=src1.shape, dtype=np.uint8) + 50\n",
    "\n",
    "dst = cv2.add(src1, src2)\n",
    "\n",
    "# dst = src + 50"
   ]
  },
  {
   "cell_type": "code",
   "execution_count": 21,
   "id": "1bf69448",
   "metadata": {},
   "outputs": [],
   "source": [
    "cv2.imshow('src1', src1)\n",
    "cv2.imshow('dst', dst)\n",
    "cv2.waitKey()\n",
    "cv2.destroyAllWindows()"
   ]
  },
  {
   "cell_type": "markdown",
   "id": "aa548e6a",
   "metadata": {},
   "source": [
    "* 영상 연산(Color)"
   ]
  },
  {
   "cell_type": "code",
   "execution_count": 22,
   "id": "f784c944",
   "metadata": {},
   "outputs": [],
   "source": [
    "src1 = cv2.imread('./data/lena.jpg')\n",
    "src2 = np.zeros(shape=src1.shape, dtype=np.uint8) + 50\n",
    "\n",
    "dst = cv2.add(src1, src2)"
   ]
  },
  {
   "cell_type": "code",
   "execution_count": 23,
   "id": "beb56d0e",
   "metadata": {},
   "outputs": [],
   "source": [
    "cv2.imshow('src1', src1)\n",
    "cv2.imshow('dst', dst)\n",
    "cv2.waitKey()\n",
    "cv2.destroyAllWindows()"
   ]
  },
  {
   "cell_type": "markdown",
   "id": "ce4256fa",
   "metadata": {},
   "source": [
    "* 영상 연산(비트 연산)"
   ]
  },
  {
   "cell_type": "markdown",
   "id": "83c35e1e",
   "metadata": {},
   "source": [
    "* 같은 결과<br>\n",
    "cv2.THRESH_BINARY_INV<br>\n",
    "cv2.THRESH_BINARY + bitwise_not"
   ]
  },
  {
   "cell_type": "code",
   "execution_count": 25,
   "id": "a8400e75",
   "metadata": {},
   "outputs": [],
   "source": [
    "lena = cv2.imread('./data/lena.jpg')\n",
    "logo = cv2.imread('./data/opencv_logo.png')\n",
    "\n",
    "\n",
    "rows, cols, channel = logo.shape\n",
    "roi = lena[:rows, :cols]\n",
    "\n",
    "logo_gray = cv2.cvtColor(logo, cv2.COLOR_BGR2GRAY)\n",
    "ret, mask = cv2.threshold(logo_gray, 160, 255, cv2.THRESH_BINARY) # 160 넘으면 255, 아니면 0으로 바꿈\n",
    "mask_inverse = cv2.bitwise_not(mask)\n",
    "lena_bg = cv2.bitwise_and(roi, roi, mask=mask)\n",
    "logo_fg = cv2.bitwise_and(logo, logo, mask=mask_inverse)\n",
    "dst = cv2.bitwise_or(lena_bg, logo_fg)\n",
    "lena[:rows, :cols] = dst\n",
    "\n",
    "cv2.imshow('lena', lena)\n",
    "cv2.waitKey()\n",
    "cv2.destroyAllWindows()"
   ]
  },
  {
   "cell_type": "markdown",
   "id": "d7601740",
   "metadata": {},
   "source": [
    "* 실습(field.bmp와 airplane.bmp 합성하기)"
   ]
  },
  {
   "cell_type": "code",
   "execution_count": 27,
   "id": "17cbe64d",
   "metadata": {},
   "outputs": [],
   "source": [
    "field = cv2.imread('./data/field.bmp')\n",
    "airplane = cv2.imread('./data/airplane.bmp')\n",
    "\n",
    "airplane_gray = cv2.cvtColor(airplane, cv2.COLOR_BGR2GRAY)\n",
    "ret, mask = cv2.threshold(airplane_gray, 160, 255, cv2.THRESH_BINARY)\n",
    "mask_inverse = cv2.bitwise_not(mask)\n",
    "field_bg = cv2.bitwise_and(field, field, mask=mask)\n",
    "airplane_fg = cv2.bitwise_and(airplane, airplane, mask=mask_inverse)\n",
    "dst = cv2.bitwise_or(field_bg, airplane_fg)\n",
    "\n",
    "cv2.imshow('dst', dst)\n",
    "cv2.waitKey()\n",
    "cv2.destroyAllWindows()"
   ]
  },
  {
   "cell_type": "markdown",
   "id": "da85347f",
   "metadata": {},
   "source": [
    "* 주어진 mask 파일로 해보기"
   ]
  },
  {
   "cell_type": "code",
   "execution_count": 28,
   "id": "feea5ab9",
   "metadata": {},
   "outputs": [],
   "source": [
    "field = cv2.imread('./data/field.bmp')\n",
    "airplane = cv2.imread('./data/airplane.bmp')\n",
    "mask = cv2.imread('./data/mask_plane.bmp')\n",
    "mask = cv2.cvtColor(mask, cv2.COLOR_BGR2GRAY)\n",
    "\n",
    "airplane_gray = cv2.cvtColor(airplane, cv2.COLOR_BGR2GRAY)\n",
    "mask_inverse = cv2.bitwise_not(mask)\n",
    "field_bg = cv2.bitwise_and(field, field, mask=mask_inverse)\n",
    "airplane_fg = cv2.bitwise_and(airplane, airplane, mask=mask)\n",
    "dst = cv2.bitwise_or(field_bg, airplane_fg)\n",
    "\n",
    "cv2.imshow('dst', dst)\n",
    "cv2.waitKey()\n",
    "cv2.destroyAllWindows()"
   ]
  },
  {
   "cell_type": "markdown",
   "id": "9c8dfa8d",
   "metadata": {},
   "source": [
    "* 반전 영상"
   ]
  },
  {
   "cell_type": "code",
   "execution_count": 29,
   "id": "5e79a5d1",
   "metadata": {},
   "outputs": [],
   "source": [
    "src1 = cv2.imread('./data/lena.jpg', cv2.IMREAD_GRAYSCALE)\n",
    "src2 = np.zeros(shape=src1.shape, dtype=np.uint8) + 255\n",
    "\n",
    "dst1 = 255 - src1\n",
    "dst2 = cv2.subtract(src2, src1)\n",
    "\n",
    "cv2.imshow('dst1', dst1)\n",
    "cv2.imshow('dst2', dst2)\n",
    "cv2.waitKey()\n",
    "cv2.destroyAllWindows()"
   ]
  },
  {
   "cell_type": "markdown",
   "id": "f36ea841",
   "metadata": {},
   "source": [
    "* 명암비 정규화"
   ]
  },
  {
   "cell_type": "code",
   "execution_count": 31,
   "id": "5df999b2",
   "metadata": {},
   "outputs": [],
   "source": [
    "src = cv2.imread('./data/lena.jpg', cv2.IMREAD_GRAYSCALE)\n",
    "\n",
    "minVal, maxVal, minLoc, maxLoc = cv2.minMaxLoc(src)\n",
    "dst = cv2.normalize(src, None, 100, 200, cv2.NORM_MINMAX)\n",
    "\n",
    "cv2.imshow('src', src)\n",
    "cv2.imshow('dst', dst)\n",
    "cv2.waitKey()\n",
    "cv2.destroyAllWindows()"
   ]
  },
  {
   "cell_type": "markdown",
   "id": "5ebfb014",
   "metadata": {},
   "source": [
    "## 영상의 이진화"
   ]
  },
  {
   "cell_type": "markdown",
   "id": "9b1b49be",
   "metadata": {},
   "source": [
    "* 전역 이진화"
   ]
  },
  {
   "cell_type": "code",
   "execution_count": 19,
   "id": "075ca18e",
   "metadata": {},
   "outputs": [],
   "source": [
    "src = cv2.imread('./data/Heart10.jpg', cv2.IMREAD_GRAYSCALE)\n",
    "\n",
    "ret, dst1 = cv2.threshold(src, 180, 255, cv2.THRESH_BINARY)\n",
    "\n",
    "ret, dst2 = cv2.threshold(src, 0, 255, cv2.THRESH_BINARY + cv2.THRESH_OTSU)\n",
    "\n",
    "ret, dst3 = cv2.threshold(src, 0, 255, cv2.THRESH_BINARY_INV + cv2.THRESH_OTSU)\n",
    "\n",
    "cv2.imshow('dst1', dst1)\n",
    "cv2.imshow('dst2', dst2)\n",
    "cv2.imshow('dst3', dst3)\n",
    "cv2.waitKey()\n",
    "cv2.destroyAllWindows()"
   ]
  },
  {
   "cell_type": "markdown",
   "id": "a966d575",
   "metadata": {},
   "source": [
    "* 적응형 이진화"
   ]
  },
  {
   "cell_type": "code",
   "execution_count": 57,
   "id": "78958ef6",
   "metadata": {},
   "outputs": [],
   "source": [
    "src = cv2.imread('./data/srcThreshold.png', cv2.IMREAD_GRAYSCALE)\n",
    "\n",
    "ret, dst = cv2.threshold(src, 0, 255, cv2.THRESH_BINARY + cv2.THRESH_OTSU)\n",
    "dst1 = cv2.adaptiveThreshold(src, 255, cv2.ADAPTIVE_THRESH_MEAN_C, cv2.THRESH_BINARY, 51, 7)\n",
    "dst2 = cv2.adaptiveThreshold(src, 255, cv2.ADAPTIVE_THRESH_GAUSSIAN_C, cv2.THRESH_BINARY, 51, 7)\n",
    "\n",
    "cv2.imshow('src', src)\n",
    "cv2.imshow('dst', dst)\n",
    "cv2.imshow('dst1', dst1)\n",
    "cv2.imshow('dst2', dst2)\n",
    "cv2.waitKey()\n",
    "cv2.destroyAllWindows()"
   ]
  },
  {
   "cell_type": "markdown",
   "id": "e470d374",
   "metadata": {},
   "source": [
    "* 실습"
   ]
  },
  {
   "cell_type": "markdown",
   "id": "f9a9ee8c",
   "metadata": {},
   "source": [
    "selectROIs() 함수로 roi 2개를 입력 받아 각각 다른 효과 주기<br>\n",
    "1. 첫번째 roi는 그레이스케일로 변환 후 150을 임계값으로 이진화<br>\n",
    "2. 두번째 roi는 반전<br>"
   ]
  },
  {
   "cell_type": "code",
   "execution_count": 58,
   "id": "027022b7",
   "metadata": {},
   "outputs": [],
   "source": [
    "src = cv2.imread('./data/lena.jpg')\n",
    "dst = src.copy()\n",
    "\n",
    "rois = cv2.selectROIs('src', src, True, False)\n",
    "\n",
    "idx = 0\n",
    "for r in rois:\n",
    "    tmp = dst[r[1]:r[1]+r[3], r[0]:r[0]+r[2]]\n",
    "    if idx == 0: \n",
    "        tmp = cv2.cvtColor(tmp, cv2.COLOR_BGR2GRAY)\n",
    "        ret, dst1 = cv2.threshold(tmp, 180, 255, cv2.THRESH_BINARY)\n",
    "        dst[r[1]:r[1]+r[3], r[0]:r[0]+r[2]][:, :, 0] = dst1\n",
    "        dst[r[1]:r[1]+r[3], r[0]:r[0]+r[2]][:, :, 1] = dst1\n",
    "        dst[r[1]:r[1]+r[3], r[0]:r[0]+r[2]][:, :, 2] = dst1\n",
    "        \n",
    "    else:\n",
    "        dst[r[1]:r[1]+r[3], r[0]:r[0]+r[2]] = 255 - tmp\n",
    "    idx += 1\n",
    "\n",
    "cv2.imshow('dst', dst)\n",
    "cv2.waitKey()\n",
    "cv2.destroyAllWindows()"
   ]
  },
  {
   "cell_type": "markdown",
   "id": "9523dc81",
   "metadata": {},
   "source": [
    "## 히스토그램 분석"
   ]
  },
  {
   "cell_type": "markdown",
   "id": "4373dd40",
   "metadata": {},
   "source": [
    "* 히스토그램 분석"
   ]
  },
  {
   "cell_type": "code",
   "execution_count": 18,
   "id": "2f3d4b33",
   "metadata": {},
   "outputs": [],
   "source": [
    "src = np.array([[0, 0, 0, 0],\n",
    "               [1, 1, 3, 5],\n",
    "               [6, 1, 1, 3],\n",
    "               [4, 3, 1, 7]], dtype=np.uint8)"
   ]
  },
  {
   "cell_type": "code",
   "execution_count": 20,
   "id": "0dcc2c8d",
   "metadata": {},
   "outputs": [],
   "source": [
    "hist1 = cv2.calcHist(images=[src], channels=[0], mask=None, histSize=[4], ranges=[0, 8])"
   ]
  },
  {
   "cell_type": "code",
   "execution_count": 21,
   "id": "96300a00",
   "metadata": {},
   "outputs": [
    {
     "data": {
      "text/plain": [
       "array([[9.],\n",
       "       [3.],\n",
       "       [2.],\n",
       "       [2.]], dtype=float32)"
      ]
     },
     "execution_count": 21,
     "metadata": {},
     "output_type": "execute_result"
    }
   ],
   "source": [
    "hist1"
   ]
  },
  {
   "cell_type": "code",
   "execution_count": 22,
   "id": "015977cf",
   "metadata": {},
   "outputs": [],
   "source": [
    "hist2 = cv2.calcHist(images=[src], channels=[0], mask=None, histSize=[4], ranges=[0, 4])"
   ]
  },
  {
   "cell_type": "code",
   "execution_count": 23,
   "id": "f11eca87",
   "metadata": {},
   "outputs": [
    {
     "data": {
      "text/plain": [
       "array([[4.],\n",
       "       [5.],\n",
       "       [0.],\n",
       "       [3.]], dtype=float32)"
      ]
     },
     "execution_count": 23,
     "metadata": {},
     "output_type": "execute_result"
    }
   ],
   "source": [
    "hist2"
   ]
  },
  {
   "cell_type": "code",
   "execution_count": 24,
   "id": "c8fd469d",
   "metadata": {},
   "outputs": [],
   "source": [
    "hist3 = cv2.calcHist(images=[src], channels=[0], mask=None, histSize=[8], ranges=[0, 8])"
   ]
  },
  {
   "cell_type": "code",
   "execution_count": 25,
   "id": "d7be2c42",
   "metadata": {},
   "outputs": [
    {
     "data": {
      "text/plain": [
       "array([[4.],\n",
       "       [5.],\n",
       "       [0.],\n",
       "       [3.],\n",
       "       [1.],\n",
       "       [1.],\n",
       "       [1.],\n",
       "       [1.]], dtype=float32)"
      ]
     },
     "execution_count": 25,
     "metadata": {},
     "output_type": "execute_result"
    }
   ],
   "source": [
    "hist3"
   ]
  },
  {
   "cell_type": "markdown",
   "id": "0bd51758",
   "metadata": {},
   "source": [
    "* 히스토그램 분석(lena 이미지)"
   ]
  },
  {
   "cell_type": "code",
   "execution_count": 32,
   "id": "f73b80bf",
   "metadata": {},
   "outputs": [],
   "source": [
    "import matplotlib.pyplot as plt"
   ]
  },
  {
   "cell_type": "code",
   "execution_count": 26,
   "id": "e2423e1a",
   "metadata": {},
   "outputs": [],
   "source": [
    "src = cv2.imread('./data/lena.jpg', cv2.IMREAD_GRAYSCALE)"
   ]
  },
  {
   "cell_type": "code",
   "execution_count": 30,
   "id": "97aa57ac",
   "metadata": {},
   "outputs": [],
   "source": [
    "hist1 = cv2.calcHist(images=[src], channels=[0], mask=None, histSize=[32], ranges=[0, 255])"
   ]
  },
  {
   "cell_type": "code",
   "execution_count": 40,
   "id": "aa5729d8",
   "metadata": {},
   "outputs": [
    {
     "data": {
      "text/plain": [
       "<BarContainer object of 32 artists>"
      ]
     },
     "execution_count": 40,
     "metadata": {},
     "output_type": "execute_result"
    },
    {
     "data": {
      "image/png": "[encoded data removed]",
      "text/plain": [
       "<Figure size 432x288 with 1 Axes>"
      ]
     },
     "metadata": {
      "needs_background": "light"
     },
     "output_type": "display_data"
    }
   ],
   "source": [
    "hist1 = hist1.flatten()\n",
    "plt.plot(hist1, color='r')\n",
    "binX = np.arange(32)\n",
    "plt.bar(binX, hist1, width=1, color='b')"
   ]
  },
  {
   "cell_type": "code",
   "execution_count": 41,
   "id": "1b467292",
   "metadata": {},
   "outputs": [],
   "source": [
    "hist2 = cv2.calcHist(images=[src], channels=[0], mask=None, histSize=[256], ranges=[0, 255])"
   ]
  },
  {
   "cell_type": "code",
   "execution_count": 43,
   "id": "f8032ef0",
   "metadata": {},
   "outputs": [
    {
     "data": {
      "text/plain": [
       "<BarContainer object of 256 artists>"
      ]
     },
     "execution_count": 43,
     "metadata": {},
     "output_type": "execute_result"
    },
    {
     "data": {
      "image/png": "[encoded data removed]",
      "text/plain": [
       "<Figure size 432x288 with 1 Axes>"
      ]
     },
     "metadata": {
      "needs_background": "light"
     },
     "output_type": "display_data"
    }
   ],
   "source": [
    "hist2 = hist2.flatten()\n",
    "plt.plot(hist2, color='r')\n",
    "binX = np.arange(256)\n",
    "plt.bar(binX, hist2, width=1, color='b')"
   ]
  },
  {
   "cell_type": "markdown",
   "id": "feef99a7",
   "metadata": {},
   "source": [
    "* 채널별 히스토그램 분석(lena 이미지)"
   ]
  },
  {
   "cell_type": "code",
   "execution_count": 44,
   "id": "e54ba046",
   "metadata": {},
   "outputs": [],
   "source": [
    "src = cv2.imread('./data/lena.jpg')"
   ]
  },
  {
   "cell_type": "code",
   "execution_count": 45,
   "id": "1bc12d50",
   "metadata": {},
   "outputs": [
    {
     "data": {
      "image/png": "[encoded data removed]",
      "text/plain": [
       "<Figure size 432x288 with 1 Axes>"
      ]
     },
     "metadata": {
      "needs_background": "light"
     },
     "output_type": "display_data"
    }
   ],
   "source": [
    "Color = ['b', 'g', 'r']\n",
    "\n",
    "for i in range(3):\n",
    "    hist = cv2.calcHist(images=[src], channels=[i], mask=None, histSize=[256], ranges=[0, 255])\n",
    "    plt.plot(hist, color=Color[i])"
   ]
  },
  {
   "cell_type": "markdown",
   "id": "18e7feae",
   "metadata": {},
   "source": [
    "* 히스토그램 스트레칭"
   ]
  },
  {
   "cell_type": "code",
   "execution_count": 64,
   "id": "3a2a094a",
   "metadata": {},
   "outputs": [],
   "source": [
    "src = cv2.imread('./data/hawkes.bmp', cv2.IMREAD_GRAYSCALE)\n",
    "\n",
    "minVal, maxVal, minLoc, maxLoc = cv2.minMaxLoc(src)\n",
    "dst = np.uint8((src - minVal) / (maxVal - minVal) * 255)\n",
    "\n",
    "cv2.imshow('src', src)\n",
    "cv2.imshow('dst', dst)\n",
    "cv2.waitKey()\n",
    "cv2.destroyAllWindows()"
   ]
  },
  {
   "cell_type": "code",
   "execution_count": 65,
   "id": "d5186632",
   "metadata": {
    "scrolled": true
   },
   "outputs": [
    {
     "data": {
      "text/plain": [
       "(0, 255)"
      ]
     },
     "execution_count": 65,
     "metadata": {},
     "output_type": "execute_result"
    }
   ],
   "source": [
    "dst.min(), dst.max()"
   ]
  },
  {
   "cell_type": "code",
   "execution_count": 72,
   "id": "3b2bb373",
   "metadata": {},
   "outputs": [
    {
     "data": {
      "image/png": "[encoded data removed]",
      "text/plain": [
       "<Figure size 432x288 with 1 Axes>"
      ]
     },
     "metadata": {
      "needs_background": "light"
     },
     "output_type": "display_data"
    },
    {
     "data": {
      "image/png": "[encoded data removed]",
      "text/plain": [
       "<Figure size 432x288 with 1 Axes>"
      ]
     },
     "metadata": {
      "needs_background": "light"
     },
     "output_type": "display_data"
    }
   ],
   "source": [
    "hist1 = cv2.calcHist(images=[src], channels=[0], mask=None, histSize=[256], ranges=[0, 256])\n",
    "hist2 = cv2.calcHist(images=[dst], channels=[0], mask=None, histSize=[256], ranges=[0, 256])\n",
    "hist1= hist1.flatten()\n",
    "hist2= hist2.flatten()\n",
    "\n",
    "plt.title('src')\n",
    "binX = np.arange(256)\n",
    "plt.bar(binX, hist1, width=1, color='b')\n",
    "plt.show()\n",
    "\n",
    "plt.title('dst')\n",
    "binX = np.arange(256)\n",
    "plt.bar(binX, hist2, width=1, color='b')\n",
    "plt.show()"
   ]
  },
  {
   "cell_type": "markdown",
   "id": "3992fb9d",
   "metadata": {},
   "source": [
    "* 히스토그램 평활화"
   ]
  },
  {
   "cell_type": "code",
   "execution_count": 73,
   "id": "873f6624",
   "metadata": {},
   "outputs": [
    {
     "data": {
      "text/plain": [
       "array([[  0,   0,   0,   0],\n",
       "       [106, 106, 170, 212],\n",
       "       [234, 106, 106, 170],\n",
       "       [191, 170, 106, 255]], dtype=uint8)"
      ]
     },
     "execution_count": 73,
     "metadata": {},
     "output_type": "execute_result"
    }
   ],
   "source": [
    "src = np.array([[0, 0, 0, 0],\n",
    "               [1, 1, 3, 5],\n",
    "               [6, 1, 1, 3],\n",
    "               [4, 3, 1, 7]], dtype=np.uint8)\n",
    "\n",
    "dst = cv2.equalizeHist(src)\n",
    "dst"
   ]
  },
  {
   "cell_type": "markdown",
   "id": "6c9271fb",
   "metadata": {},
   "source": [
    "* 히스토그램 평활화(hawkes.bmp 이미지)"
   ]
  },
  {
   "cell_type": "code",
   "execution_count": 74,
   "id": "254928d3",
   "metadata": {},
   "outputs": [],
   "source": [
    "src = cv2.imread('./data/hawkes.bmp', cv2.IMREAD_GRAYSCALE)\n",
    "\n",
    "dst = cv2.equalizeHist(src)\n",
    "\n",
    "cv2.imshow('src', src)\n",
    "cv2.imshow('dst', dst)\n",
    "cv2.waitKey()\n",
    "cv2.destroyAllWindows()"
   ]
  },
  {
   "cell_type": "code",
   "execution_count": 75,
   "id": "174a8a01",
   "metadata": {},
   "outputs": [
    {
     "data": {
      "image/png": "[encoded data removed]",
      "text/plain": [
       "<Figure size 432x288 with 1 Axes>"
      ]
     },
     "metadata": {
      "needs_background": "light"
     },
     "output_type": "display_data"
    },
    {
     "data": {
      "image/png": "[encoded data removed]",
      "text/plain": [
       "<Figure size 432x288 with 1 Axes>"
      ]
     },
     "metadata": {
      "needs_background": "light"
     },
     "output_type": "display_data"
    }
   ],
   "source": [
    "hist1 = cv2.calcHist(images=[src], channels=[0], mask=None, histSize=[256], ranges=[0, 256])\n",
    "hist2 = cv2.calcHist(images=[dst], channels=[0], mask=None, histSize=[256], ranges=[0, 256])\n",
    "hist1= hist1.flatten()\n",
    "hist2= hist2.flatten()\n",
    "\n",
    "plt.title('src')\n",
    "binX = np.arange(256)\n",
    "plt.bar(binX, hist1, width=1, color='b')\n",
    "plt.show()\n",
    "\n",
    "plt.title('dst')\n",
    "binX = np.arange(256)\n",
    "plt.bar(binX, hist2, width=1, color='b')\n",
    "plt.show()"
   ]
  },
  {
   "cell_type": "markdown",
   "id": "13155260",
   "metadata": {},
   "source": [
    "* 히스토그램 평활화 (pepper 컬러 이미지)"
   ]
  },
  {
   "cell_type": "markdown",
   "id": "1cc2ddc0",
   "metadata": {},
   "source": [
    "- 아래와 같이 하면 색상값마다 평활화를 진행하는 것이기 때문에 원본과 색상이 달라짐 -> ycr 사용"
   ]
  },
  {
   "cell_type": "code",
   "execution_count": 90,
   "id": "b87e6009",
   "metadata": {},
   "outputs": [],
   "source": [
    "src = cv2.imread('./data/pepper.bmp')\n",
    "dst = np.zeros(src.shape, dtype=np.uint8)\n",
    "\n",
    "d1 = cv2.equalizeHist(src[:,:,0])\n",
    "d2 = cv2.equalizeHist(src[:,:,1])\n",
    "d3 = cv2.equalizeHist(src[:,:,2])\n",
    "dst = cv2.merge([d1, d2, d3])\n",
    "\n",
    "cv2.imshow('src', src)\n",
    "cv2.imshow('dst', dst)\n",
    "cv2.waitKey()\n",
    "cv2.destroyAllWindows()"
   ]
  },
  {
   "cell_type": "code",
   "execution_count": 96,
   "id": "d24b93b4",
   "metadata": {},
   "outputs": [],
   "source": [
    "src = cv2.imread('./data/pepper.bmp')\n",
    "YCrCb = cv2.cvtColor(src, cv2.COLOR_BGR2YCrCb)\n",
    "Y, Cr, Cb = cv2.split(YCrCb)\n",
    "\n",
    "Ye = cv2.equalizeHist(Y)\n",
    "dst = cv2.merge([Ye, Cr, Cb])\n",
    "dst = cv2.cvtColor(dst, cv2.COLOR_YCrCb2BGR)\n",
    "cv2.imshow('src', src)\n",
    "cv2.imshow('dst', dst)\n",
    "cv2.waitKey()\n",
    "cv2.destroyAllWindows()"
   ]
  },
  {
   "cell_type": "markdown",
   "id": "6ae0808c",
   "metadata": {},
   "source": [
    "* 히스토그램 평활화(lena 컬러 이미지)"
   ]
  },
  {
   "cell_type": "code",
   "execution_count": 97,
   "id": "86b7b195",
   "metadata": {},
   "outputs": [],
   "source": [
    "src = cv2.imread('./data/lena.jpg')\n",
    "YCrCb = cv2.cvtColor(src, cv2.COLOR_BGR2YCrCb)\n",
    "Y, Cr, Cb = cv2.split(YCrCb)\n",
    "\n",
    "Ye = cv2.equalizeHist(Y)\n",
    "dst = cv2.merge([Ye, Cr, Cb])\n",
    "dst = cv2.cvtColor(dst, cv2.COLOR_YCrCb2BGR)\n",
    "cv2.imshow('src', src)\n",
    "cv2.imshow('dst', dst)\n",
    "cv2.waitKey()\n",
    "cv2.destroyAllWindows()"
   ]
  },
  {
   "cell_type": "code",
   "execution_count": 98,
   "id": "ac53c121",
   "metadata": {},
   "outputs": [],
   "source": [
    "src = cv2.imread('./data/lena.jpg')\n",
    "hsv = cv2.cvtColor(src, cv2.COLOR_BGR2HSV)\n",
    "h, s, v = cv2.split(hsv)\n",
    "\n",
    "ve = cv2.equalizeHist(v)\n",
    "dst = cv2.merge([h, s, ve])\n",
    "dst = cv2.cvtColor(dst, cv2.COLOR_HSV2BGR)\n",
    "cv2.imshow('src', src)\n",
    "cv2.imshow('dst', dst)\n",
    "cv2.waitKey()\n",
    "cv2.destroyAllWindows()"
   ]
  },
  {
   "cell_type": "code",
   "execution_count": 102,
   "id": "99dc2c99",
   "metadata": {},
   "outputs": [],
   "source": [
    "src = cv2.imread('./data/lena.jpg')\n",
    "\n",
    "YCrCb = cv2.cvtColor(src, cv2.COLOR_BGR2YCrCb)\n",
    "Y, Cr, Cb = cv2.split(YCrCb)\n",
    "Ye = cv2.equalizeHist(Y)\n",
    "dst1 = cv2.merge([Ye, Cr, Cb])\n",
    "dst1 = cv2.cvtColor(dst1, cv2.COLOR_YCrCb2BGR)\n",
    "\n",
    "hsv = cv2.cvtColor(src, cv2.COLOR_BGR2HSV)\n",
    "h, s, v = cv2.split(hsv)\n",
    "ve = cv2.equalizeHist(v)\n",
    "dst2 = cv2.merge([h, s, ve])\n",
    "dst2 = cv2.cvtColor(dst2, cv2.COLOR_HSV2BGR)\n",
    "\n",
    "cv2.imshow('src', src)\n",
    "cv2.imshow('dst1', dst1)\n",
    "cv2.imshow('dst2', dst2)\n",
    "cv2.waitKey()\n",
    "cv2.destroyAllWindows()"
   ]
  },
  {
   "cell_type": "markdown",
   "id": "8bf10fd3",
   "metadata": {},
   "source": [
    "* 히스토그램의 역투영"
   ]
  },
  {
   "cell_type": "code",
   "execution_count": 104,
   "id": "14c34e25",
   "metadata": {},
   "outputs": [
    {
     "data": {
      "text/plain": [
       "array([[9.],\n",
       "       [3.],\n",
       "       [2.],\n",
       "       [2.]], dtype=float32)"
      ]
     },
     "execution_count": 104,
     "metadata": {},
     "output_type": "execute_result"
    }
   ],
   "source": [
    "src = np.array([[0, 0, 0, 0],\n",
    "               [1, 1, 3, 5],\n",
    "               [6, 1, 1, 3],\n",
    "               [4, 3, 1, 7]], dtype=np.uint8)\n",
    "\n",
    "hist = cv2.calcHist(images=[src], channels=[0], mask=None, histSize=[4], ranges=[0, 8])\n",
    "backP = cv2.calcBackProject([src], [0], hist, [0, 8], scale=1)"
   ]
  },
  {
   "cell_type": "code",
   "execution_count": 26,
   "id": "25780652",
   "metadata": {},
   "outputs": [],
   "source": [
    "src = cv2.imread('./data/fruits.jpg')\n",
    "hsv = cv2.cvtColor(src, cv2.COLOR_BGR2HSV)\n",
    "h, s, v = cv2.split(hsv)\n",
    "\n",
    "roi = cv2.selectROI(src)\n",
    "roi_h = h[roi[1]:roi[1]+roi[3], roi[0]:roi[0]+roi[2]]\n",
    "\n",
    "hist = cv2.calcHist([roi_h], [0], None, [64], [0, 256])\n",
    "backP = cv2.calcBackProject([h.astype(np.float32)], [0], hist, [0, 256], scale=1) # uint8은 255\n",
    "\n",
    "hist = cv2.sort(hist, cv2.SORT_EVERY_COLUMN + cv2.SORT_DESCENDING)\n",
    "T = hist[1][0]-1\n",
    "\n",
    "ret, dst = cv2.threshold(backP, T, 255, cv2.THRESH_BINARY) # T보다 크면 255, 작으면 0\n",
    "cv2.imshow('dst', dst)\n",
    "cv2.waitKey()\n",
    "cv2.destroyAllWindows()"
   ]
  },
  {
   "cell_type": "code",
   "execution_count": null,
   "id": "6fa12373",
   "metadata": {},
   "outputs": [],
   "source": []
  }
 ],
 "metadata": {
  "kernelspec": {
   "display_name": "Python 3",
   "language": "python",
   "name": "python3"
  },
  "language_info": {
   "codemirror_mode": {
    "name": "ipython",
    "version": 3
   },
   "file_extension": ".py",
   "mimetype": "text/x-python",
   "name": "python",
   "nbconvert_exporter": "python",
   "pygments_lexer": "ipython3",
   "version": "3.8.8"
  }
 },
 "nbformat": 4,
 "nbformat_minor": 5
}
