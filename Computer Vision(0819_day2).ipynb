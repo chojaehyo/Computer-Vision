{
 "cells": [
  {
   "cell_type": "code",
   "execution_count": 2,
   "id": "b8c7e08a",
   "metadata": {},
   "outputs": [],
   "source": [
    "import cv2"
   ]
  },
  {
   "cell_type": "markdown",
   "id": "9ca9ed92",
   "metadata": {},
   "source": [
    "# 영상 및 비디오 입출력"
   ]
  },
  {
   "cell_type": "markdown",
   "id": "9a7a94bd",
   "metadata": {},
   "source": [
    "## 실습 7. 비디오 캡쳐와 화면 표시 2(동영상 파일)"
   ]
  },
  {
   "cell_type": "code",
   "execution_count": 6,
   "id": "df049df0",
   "metadata": {},
   "outputs": [],
   "source": [
    "cap = cv2.VideoCapture('./data/vtest.avi')\n",
    "\n",
    "frame_size = (int(cap.get(cv2.CAP_PROP_FRAME_WIDTH)), int(cap.get(cv2.CAP_PROP_FRAME_HEIGHT)))\n",
    "\n",
    "# print(frame_size)\n",
    "\n",
    "# cap.set(cv2.CAP_PROP_FRAME_WIDTH, 320)\n",
    "# cap.set(cv2.CAP_PROP_FRAME_WIDTH, 240)\n",
    "\n",
    "while True:\n",
    "    retval, frame = cap.read() # 프레임 캡쳐\n",
    "    if not retval:\n",
    "        break\n",
    "        \n",
    "    cv2.imshow(\"frame1\", frame)\n",
    "    cv2.imshow(\"frame2\", (255-frame))\n",
    "    \n",
    "    key = cv2.waitKey(25) # 약간의 시간 텀을 줌(ms)\n",
    "    if key == 27: # ESC\n",
    "        break\n",
    "        \n",
    "if cap.isOpened():\n",
    "    cap.release()\n",
    "    \n",
    "cv2.destroyAllWindows()"
   ]
  },
  {
   "cell_type": "markdown",
   "id": "aafa3d9c",
   "metadata": {},
   "source": [
    "## 실습 8. 비디오 캡쳐와 화면 표시(외부 URL : 드로이드캠에서 촬영한 영상)"
   ]
  },
  {
   "cell_type": "code",
   "execution_count": 11,
   "id": "55f4118a",
   "metadata": {},
   "outputs": [
    {
     "name": "stdout",
     "output_type": "stream",
     "text": [
      "(640, 480)\n"
     ]
    }
   ],
   "source": [
    "cap = cv2.VideoCapture('http://172.30.1.44:4747/videofeed') # 아이폰:videofeed , 안드로이드:jpegfeed\n",
    "\n",
    "frame_size = (int(cap.get(cv2.CAP_PROP_FRAME_WIDTH)), int(cap.get(cv2.CAP_PROP_FRAME_HEIGHT)))\n",
    "\n",
    "\n",
    "# cap.set(cv2.CAP_PROP_FRAME_WIDTH, 320)\n",
    "# cap.set(cv2.CAP_PROP_FRAME_WIDTH, 240)\n",
    "print(frame_size)\n",
    "\n",
    "while True:\n",
    "    retval, frame = cap.read() # 프레임 캡쳐\n",
    "    if not retval:\n",
    "        break\n",
    "        \n",
    "    cv2.imshow(\"frame\", frame)\n",
    "    \n",
    "    key = cv2.waitKey(25) # 약간의 시간 텀을 줌(ms)\n",
    "    if key == 27: # ESC\n",
    "        break\n",
    "        \n",
    "if cap.isOpened():\n",
    "    cap.release()\n",
    "    \n",
    "cv2.destroyAllWindows()"
   ]
  },
  {
   "cell_type": "markdown",
   "id": "73505dd6",
   "metadata": {},
   "source": [
    "## 실습 9. 비디오 캡쳐와 화면 표시(유튜브 동영상)"
   ]
  },
  {
   "cell_type": "code",
   "execution_count": 3,
   "id": "13533206",
   "metadata": {},
   "outputs": [],
   "source": [
    "import pafy"
   ]
  },
  {
   "cell_type": "code",
   "execution_count": 5,
   "id": "12b86637",
   "metadata": {},
   "outputs": [
    {
     "name": "stdout",
     "output_type": "stream",
     "text": [
      "title =  [#티전드] 무려 4연속 성공⭐ 신서유기 멤버들이 잘 맞춰서 기분 나쁜 나PDㅋㅋㅋ | #신서유기8 #Diggle | CJ ENM 201120 방송\n",
      "rating =  4.8389339\n",
      "duration =  00:16:35\n",
      "best resolution =  1280x720\n"
     ]
    }
   ],
   "source": [
    "url = 'https://www.youtube.com/watch?v=LiOI0iC9h-Q'\n",
    "\n",
    "video = pafy.new(url) # meta정보 가져오기\n",
    "\n",
    "print('title = ', video.title)\n",
    "print('rating = ', video.rating)\n",
    "print('duration = ', video.duration)\n",
    "\n",
    "best = video.getbest() # 최적의 양식 생성\n",
    "\n",
    "print(\"best resolution = \", best.resolution) # 최적의 해상도\n",
    "\n",
    "cap = cv2.VideoCapture(best.url) # best.url : 다운로드 받을 수 있는 url 반환해줌\n",
    "\n",
    "while True:\n",
    "    retval, frame = cap.read()\n",
    "    if not retval:\n",
    "        break\n",
    "        \n",
    "    cv2.imshow(\"frame\", frame)\n",
    "    \n",
    "    key = cv2.waitKey(25)\n",
    "    if key == 27: \n",
    "        break\n",
    "        \n",
    "if cap.isOpened():\n",
    "    cap.release()\n",
    "    \n",
    "cv2.destroyAllWindows()"
   ]
  },
  {
   "cell_type": "markdown",
   "id": "ef405c3e",
   "metadata": {},
   "source": [
    "## 실습 10. 비디오 파일의 저장(기본 카메라로부터 얻은 영상)"
   ]
  },
  {
   "cell_type": "code",
   "execution_count": 4,
   "id": "8f57fc85",
   "metadata": {},
   "outputs": [
    {
     "name": "stdout",
     "output_type": "stream",
     "text": [
      "(640, 480)\n"
     ]
    }
   ],
   "source": [
    "cap = cv2.VideoCapture(0) # 비디오 캡쳐를 위해 객체 생성, 0: 첫번째 웹캠\n",
    "\n",
    "frame_size = (int(cap.get(cv2.CAP_PROP_FRAME_WIDTH)), int(cap.get(cv2.CAP_PROP_FRAME_HEIGHT)))\n",
    "\n",
    "print(frame_size)\n",
    "\n",
    "fourcc = cv2.VideoWriter_fourcc(*'XVID') # 코덱 정보\n",
    "\n",
    "fps = 20.0 # 작게 주면 시간 당 보여주는 프레임 작으므로 천천히 보여줌\n",
    "\n",
    "# cv2.VideoWriter(파일명, 코덱 정보, fps(초당 몇프레임 저장할지), 프레임 사이즈)\n",
    "\n",
    "out1 = cv2.VideoWriter('./out/record1.mp4', fourcc, fps, frame_size) # 비디오 저장을 위한 객체 생성\n",
    "out2 = cv2.VideoWriter('./out/record2.mp4', fourcc, fps, frame_size, isColor=False) # 색 없이 저장할 객체 생성\n",
    "\n",
    "while True:\n",
    "    retval, frame = cap.read() # 재생되는 비디오 한 프레임씩 읽기, 제대로 읽었으면 return value : true\n",
    "    if not retval:             # 읽어오는 거 실패하면 멈추기\n",
    "        break\n",
    "        \n",
    "    cv2.imshow(\"frame\", frame) # 화면에 디스플레이\n",
    "    \n",
    "    out1.write(frame)          # 읽어온 프레임 저장\n",
    "    \n",
    "    gray = cv2.cvtColor(frame, cv2.COLOR_BGR2GRAY) # 흑백으로 변환하기, cv2가 기존에 BGR이므로\n",
    "    \n",
    "#     edges = cv2.Canny(gray, 100, 200)\n",
    "#     cv2.imshow(\"edges\", edges)\n",
    "    \n",
    "    out2.write(gray)\n",
    "\n",
    "    \n",
    "    key = cv2.waitKey(25)\n",
    "    if key == 27: \n",
    "        break\n",
    "        \n",
    "if cap.isOpened():   # 오픈한 cap객체 해제\n",
    "    cap.release()\n",
    "    \n",
    "out1.release()       # 오픈한 out1 객체 해제\n",
    "out2.release()\n",
    "cv2.destroyAllWindows() # 모든 윈도우 닫기"
   ]
  },
  {
   "cell_type": "markdown",
   "id": "8d5c39c1",
   "metadata": {},
   "source": [
    "## 실습10. 비디오 파일의 저장 2(Youtube에서 다운로드 받은 파일)"
   ]
  },
  {
   "cell_type": "code",
   "execution_count": 10,
   "id": "d31838f3",
   "metadata": {},
   "outputs": [],
   "source": [
    "import pafy\n",
    "\n",
    "url = 'https://www.youtube.com/watch?v=LiOI0iC9h-Q'\n",
    "\n",
    "video = pafy.new(url) \n",
    "best = video.getbest()\n",
    "\n",
    "cap = cv2.VideoCapture(best.url) \n",
    "\n",
    "frame_size = (int(cap.get(cv2.CAP_PROP_FRAME_WIDTH)), int(cap.get(cv2.CAP_PROP_FRAME_HEIGHT)))\n",
    "fourcc = cv2.VideoWriter_fourcc(*'XVID') \n",
    "fps = 20.0\n",
    "\n",
    "out = cv2.VideoWriter('./out/record1.mp4', fourcc, fps, frame_size)\n",
    "\n",
    "while True:\n",
    "    retval, frame = cap.read()\n",
    "    if not retval:\n",
    "        break\n",
    "        \n",
    "    cv2.imshow(\"frame\", frame)\n",
    "    out.write(frame) \n",
    "    \n",
    "    key = cv2.waitKey(25)\n",
    "    if key == 27: \n",
    "        break\n",
    "        \n",
    "if cap.isOpened():\n",
    "    cap.release()\n",
    "\n",
    "out.release()\n",
    "cv2.destroyAllWindows()"
   ]
  },
  {
   "cell_type": "markdown",
   "id": "a1036d8c",
   "metadata": {},
   "source": [
    "## 실습10. 비디오 파일의 저장 3(드로이드캠에서 얻어온 영상)"
   ]
  },
  {
   "cell_type": "code",
   "execution_count": 9,
   "id": "934a3643",
   "metadata": {},
   "outputs": [],
   "source": [
    "cap = cv2.VideoCapture('http://172.30.1.44:4747/videofeed')\n",
    "\n",
    "frame_size = (int(cap.get(cv2.CAP_PROP_FRAME_WIDTH)), int(cap.get(cv2.CAP_PROP_FRAME_HEIGHT)))\n",
    "fourcc = cv2.VideoWriter_fourcc(*'XVID') \n",
    "fps = 20.0\n",
    "\n",
    "out = cv2.VideoWriter('./out/record2.mp4', fourcc, fps, frame_size)\n",
    "\n",
    "while True:\n",
    "    retval, frame = cap.read()\n",
    "    if not retval:\n",
    "        break\n",
    "        \n",
    "    cv2.imshow(\"frame\", frame)\n",
    "    out.write(frame) \n",
    "    \n",
    "    key = cv2.waitKey(25)\n",
    "    if key == 27: \n",
    "        break\n",
    "        \n",
    "if cap.isOpened():\n",
    "    cap.release()\n",
    "\n",
    "out.release()\n",
    "cv2.destroyAllWindows()"
   ]
  },
  {
   "cell_type": "markdown",
   "id": "72a9a2aa",
   "metadata": {},
   "source": [
    "## 그래픽 및 이벤트 처리"
   ]
  },
  {
   "cell_type": "markdown",
   "id": "8edf0678",
   "metadata": {},
   "source": [
    "## 직선 및 사각형 그리기"
   ]
  },
  {
   "cell_type": "code",
   "execution_count": 11,
   "id": "c6d45418",
   "metadata": {},
   "outputs": [],
   "source": [
    "import numpy as np"
   ]
  },
  {
   "cell_type": "markdown",
   "id": "82ec3c79",
   "metadata": {},
   "source": [
    "* 직선과 사각형 그리기"
   ]
  },
  {
   "cell_type": "code",
   "execution_count": 36,
   "id": "000761eb",
   "metadata": {},
   "outputs": [],
   "source": [
    "img = np.zeros((512, 512, 3), dtype=np.uint8) + 255 # np.uint8 : unsigned int, 하나를 표현하기 위해 8비트 씀\n",
    "\n",
    "pt1 = 100, 100\n",
    "pt2 = 400, 400\n",
    "\n",
    "pt3 = 0, 0\n",
    "pt4 = 500, 0\n",
    "\n",
    "pt5 = 0, 0\n",
    "pt6 = 0, 500\n",
    "\n",
    "b = np.random.randint(256)\n",
    "g = np.random.randint(256)\n",
    "r = np.random.randint(256)\n",
    "\n",
    "cv2.rectangle(img, pt1, pt2, (r, g, b), 2) # 사각형 그리기: 도화지, 점1, 점2, 색(b, g, r), 선의 굵기 \n",
    "cv2.line(img, pt3, pt4, (b, g, r), 5)\n",
    "cv2.line(img, pt5, pt6, (g, r, b), 5)\n",
    "\n",
    "\n",
    "cv2.imshow('img', img)\n",
    "cv2.waitKey()\n",
    "cv2.destroyAllWindows()"
   ]
  },
  {
   "cell_type": "markdown",
   "id": "156145bb",
   "metadata": {},
   "source": [
    "* 직선과 사각형의 교차점 그리기"
   ]
  },
  {
   "cell_type": "code",
   "execution_count": 46,
   "id": "b8e16e19",
   "metadata": {},
   "outputs": [],
   "source": [
    "img = np.zeros((512, 512, 3), dtype=np.uint8) + 255 \n",
    "\n",
    "x1, y1 = 100, 100\n",
    "x2, y2 = 400, 400\n",
    "\n",
    "cv2.rectangle(img, (x1, y1), (x2, y2), (r, g, b), 2) # 사각형 그리기: 도화지, 점1, 점2, 색(b, g, r), 선의 굵기 \n",
    "\n",
    "x3, y3 = 120, 50\n",
    "x4, y4 = 300, 500\n",
    "\n",
    "cv2.line(img, (x3, y3), (x4, y4), (b, g, r), 2)\n",
    "\n",
    "imgRect = (x1, y1, x2-x1, y2-y1)\n",
    "retval, rpt1, rpt2 = cv2.clipLine(imgRect, (x3, y3), (x4, y4))\n",
    "\n",
    "if retval:\n",
    "    cv2.circle(img, rpt1, radius=10, color=(b, g, r), thickness=-1) # 원 내부 색칠\n",
    "    cv2.circle(img, rpt2, radius=10, color=(b, g, r), thickness=2)  # 원 내부 색칠 x\n",
    "    \n",
    "cv2.imshow('img', img)\n",
    "cv2.waitKey()\n",
    "cv2.destroyAllWindows()"
   ]
  },
  {
   "cell_type": "markdown",
   "id": "adb22472",
   "metadata": {},
   "source": [
    "* 원 그리기"
   ]
  },
  {
   "cell_type": "code",
   "execution_count": 57,
   "id": "d63893b3",
   "metadata": {},
   "outputs": [],
   "source": [
    "img = np.zeros((512, 512, 3), dtype=np.uint8) + 255 \n",
    "\n",
    "cx, cy = img.shape[0] // 2, img.shape[1] // 2\n",
    "\n",
    "for r in range(200, 0, -100):\n",
    "    cv2.circle(img, (cx, cy), r, color=(255, 0, 0), thickness=5) # 도화지, 중심점, 반지름, 색, 선 굵기\n",
    "\n",
    "cv2.circle(img, (cx, cy), 50, color=(0, 0, 255), thickness=-1)\n",
    "\n",
    "cv2.imshow('img', img)\n",
    "cv2.waitKey()\n",
    "cv2.destroyAllWindows()"
   ]
  },
  {
   "cell_type": "code",
   "execution_count": 49,
   "id": "b5ae6c8f",
   "metadata": {},
   "outputs": [
    {
     "data": {
      "text/plain": [
       "(512, 512, 3)"
      ]
     },
     "execution_count": 49,
     "metadata": {},
     "output_type": "execute_result"
    }
   ],
   "source": [
    "img.shape[0], img.shape[1], img.shape[2]"
   ]
  },
  {
   "cell_type": "markdown",
   "id": "7ba2b792",
   "metadata": {},
   "source": [
    "* 타원 그리기"
   ]
  },
  {
   "cell_type": "code",
   "execution_count": 68,
   "id": "df51c5cc",
   "metadata": {},
   "outputs": [],
   "source": [
    "img = np.zeros((512, 512, 3), dtype=np.uint8) + 255 \n",
    "\n",
    "cx, cy = img.shape[0] // 2, img.shape[1] // 2\n",
    "\n",
    "size = 200, 100\n",
    "\n",
    "cv2.ellipse(img, (cx, cy), size, 0, 0, 360, (0, 0, 255)) # 도화지, 중심점, 가로세로 반지름, 기울기, 시작 각도, 끝 각도, 색\n",
    "cv2.ellipse(img, (cx, cy), size, 45, 0, 360, (255, 0, 0))\n",
    "cv2.ellipse(img, (cx, cy), size, 90, 0, 360, (0, 255, 0))\n",
    "\n",
    "\n",
    "box = ((cx, cy), size, 0) # 중심점, 사이즈, 각도\n",
    "cv2.ellipse(img, box, (255, 0, 0), 5)\n",
    "\n",
    "box = ((cx, cy), size, 45)\n",
    "cv2.ellipse(img, box, (0, 0, 255), 5)\n",
    "\n",
    "\n",
    "cv2.imshow('img', img)\n",
    "cv2.waitKey()\n",
    "cv2.destroyAllWindows()"
   ]
  },
  {
   "cell_type": "markdown",
   "id": "73e2060a",
   "metadata": {},
   "source": [
    "* 다각형 그리기"
   ]
  },
  {
   "cell_type": "code",
   "execution_count": 76,
   "id": "236bf8b0",
   "metadata": {},
   "outputs": [],
   "source": [
    "img = np.zeros((512, 512, 3), dtype=np.uint8) + 255 \n",
    "\n",
    "pts1 = np.array([[100, 100], [200, 100], [200, 200], [100, 200]])\n",
    "pts2 = np.array([[300, 200], [400, 100], [400, 200]])\n",
    "\n",
    "cv2.polylines(img, [pts1, pts2], isClosed=True, color=(255, 0, 0))\n",
    "\n",
    "\n",
    "cv2.imshow('img', img)\n",
    "cv2.waitKey()\n",
    "cv2.destroyAllWindows()"
   ]
  },
  {
   "cell_type": "code",
   "execution_count": 84,
   "id": "d02515fb",
   "metadata": {},
   "outputs": [],
   "source": [
    "img = np.zeros((512, 512, 3), dtype=np.uint8) + 255 \n",
    "\n",
    "cx, cy = img.shape[0] // 2, img.shape[1] // 2\n",
    "\n",
    "size = 200, 100\n",
    "\n",
    "\n",
    "# ellipse2Poly는 그려주는 함수는 아니고 점의 값만 받아오는 함수\n",
    "# 점 구하는 함수: 중심점, 사이즈, 기울기, 시작 각도, 끝 각도, 점 찍는 각도\n",
    "cv2.ellipse(img, (cx, cy), size, 0, 0, 360, (0, 0, 255))\n",
    "pts1 = cv2.ellipse2Poly((cx, cy), size, 0, 0, 360, delta=45)\n",
    "\n",
    "cv2.ellipse(img, (cx, cy), size, 45, 0, 360, (0, 0, 255))\n",
    "pts2 = cv2.ellipse2Poly((cx, cy), size, 45, 0, 360, delta=45)\n",
    "\n",
    "\n",
    "cv2.polylines(img, [pts1, pts2], isClosed= True, color=(255, 0, 0))\n",
    "\n",
    "cv2.imshow('img', img) \n",
    "cv2.waitKey()\n",
    "cv2.destroyAllWindows()"
   ]
  },
  {
   "cell_type": "code",
   "execution_count": 90,
   "id": "bc4227a6",
   "metadata": {},
   "outputs": [],
   "source": [
    "img = np.zeros((512, 512, 3), dtype=np.uint8) + 255 \n",
    "\n",
    "cx, cy = img.shape[0] // 2, img.shape[1] // 2\n",
    "\n",
    "size = 200, 200\n",
    "\n",
    "\n",
    "for angle in range(0, 90, 10):\n",
    "    b = np.random.randint(256)\n",
    "    g = np.random.randint(256)\n",
    "    r = np.random.randint(256)\n",
    "    \n",
    "    box = ((cx, cy), size, angle)\n",
    "    # cv2.boxPoints(box) : box 정보를 주면 해당 점을 구해줌\n",
    "    pts = cv2.boxPoints(box).astype(np.int32)\n",
    "\n",
    "    cv2.polylines(img, [pts], isClosed=True, color=(b, g, r))\n",
    "\n",
    "\n",
    "cv2.imshow('img', img) \n",
    "cv2.waitKey()\n",
    "cv2.destroyAllWindows()"
   ]
  },
  {
   "cell_type": "code",
   "execution_count": 92,
   "id": "a5e7cf75",
   "metadata": {},
   "outputs": [],
   "source": [
    "img = np.zeros((512, 512, 3), dtype=np.uint8) + 255 \n",
    "\n",
    "pts1 = np.array([[100, 100], [200, 100], [200, 200], [100, 200]])\n",
    "pts2 = np.array([[300, 200], [400, 100], [400, 200]])\n",
    "\n",
    "# cv2.fillConvexPoly(img, pts1, color=(255, 0, 0)) # 1개\n",
    "cv2.fillPoly(img, [pts1, pts2], color=(0, 0, 255)) # 여러 개\n",
    "\n",
    "cv2.imshow('img', img)\n",
    "cv2.waitKey()\n",
    "cv2.destroyAllWindows()"
   ]
  },
  {
   "cell_type": "markdown",
   "id": "6ffdaa80",
   "metadata": {},
   "source": [
    "## 아래와 같은 그림 그리기"
   ]
  },
  {
   "attachments": {
    "image.png": {
     "image/png": "[encoded data removed]"
    }
   },
   "cell_type": "markdown",
   "id": "e9d1fd0c",
   "metadata": {},
   "source": [
    "![image.png](attachment:image.png)"
   ]
  },
  {
   "cell_type": "code",
   "execution_count": 170,
   "id": "0d212eda",
   "metadata": {},
   "outputs": [],
   "source": [
    "img = np.zeros((512, 512, 3), dtype=np.uint8) + 255 \n",
    "\n",
    "x1, y1 = 50, 50\n",
    "x2, y2 = 150, 100\n",
    "\n",
    "cv2.rectangle(img, (x1, y1), (x2, y2), (0, 0, 255), 2)\n",
    "cv2.rectangle(img, (x1, y1+100), (x2, y2+100), (0, 0, 255), -1)\n",
    "\n",
    "cx, cy = 300, 130\n",
    "r = 60\n",
    "cv2.circle(img, (cx, cy), r, (250, 0, 0), 3)\n",
    "cv2.circle(img, (cx, cy), r-30, (200, 200, 0), -1)\n",
    "\n",
    "cx2, cy2 = 110,300\n",
    "size = 90, 50\n",
    "size2 = 50, 30\n",
    "cv2.ellipse(img, (cx2, cy2), size, 20, 0, 360, (0, 255, 0), 2)\n",
    "cv2.ellipse(img, (cx2, cy2), size2, 20, 0, 270, (200, 200, 0), -1)\n",
    "\n",
    "x3, y3 = 250, 250\n",
    "pts1 = np.array([[x3, y3], [x3, y3+110], [x3+110, y3+110], [x3+110, y3+55], [x3+55, y3+55], [x3+55, y3]])\n",
    "cv2.polylines(img, [pts1], isClosed=True, color=(150, 0, 150), thickness=2)\n",
    "\n",
    "cv2.imshow('img', img)\n",
    "cv2.waitKey()\n",
    "cv2.destroyAllWindows()"
   ]
  },
  {
   "cell_type": "markdown",
   "id": "40331e59",
   "metadata": {},
   "source": [
    "## 문자열 출력"
   ]
  },
  {
   "cell_type": "markdown",
   "id": "407a044c",
   "metadata": {},
   "source": [
    "OpenCV font : https://docs.opencv.org/4.5.2/d6/d6e/group__imgproc__draw.html"
   ]
  },
  {
   "cell_type": "code",
   "execution_count": 3,
   "id": "52c0d024",
   "metadata": {},
   "outputs": [],
   "source": [
    "import cv2\n",
    "import numpy as np\n",
    "\n",
    "img = np.zeros((512, 512, 3), dtype=np.uint8) + 255 \n",
    "\n",
    "text = 'OpenCV Programming'\n",
    "org = (50, 100) # 좌측 하단\n",
    "\n",
    "font = cv2.FONT_HERSHEY_SIMPLEX\n",
    "# 도화지, 텍스트, 폰트, 폰트 사이즈, 색, 두께\n",
    "cv2.putText(img, text, org, font, 1, (255, 0, 0), 2)\n",
    "\n",
    "# size: 텍스트의 width, height 사이즈\n",
    "# baseline: org로부터의 높이\n",
    "size, baseline = cv2.getTextSize(text, font, 1, 2)\n",
    "\n",
    "cv2.rectangle(img, org, (org[0]+size[0], org[1]-size[1]), (0, 0, 255), 2) # 직사각형의 좌측 하단, 우측 상단 \n",
    "cv2.circle(img, org, 3, (0, 255, 0), 2)\n",
    "cv2.imshow('img', img)\n",
    "cv2.waitKey()\n",
    "cv2.destroyAllWindows()"
   ]
  },
  {
   "cell_type": "markdown",
   "id": "9914785f",
   "metadata": {},
   "source": [
    "## 카운트다운 영상 만들기"
   ]
  },
  {
   "cell_type": "code",
   "execution_count": 6,
   "id": "a7f6df77",
   "metadata": {},
   "outputs": [],
   "source": [
    "import cv2\n",
    "import numpy as np\n",
    "\n",
    "size2 = 300\n",
    "fourcc = cv2.VideoWriter_fourcc(*'XVID') \n",
    "fps = 1\n",
    "out = cv2.VideoWriter('./out/countdown.mp4', fourcc, fps, (512, 512))\n",
    "\n",
    "for i in range(5, -1, -1):\n",
    "    img = np.zeros((512, 512, 3), dtype=np.uint8) + 255 \n",
    "    cx, cy = img.shape[0] // 2, img.shape[1] // 2\n",
    "    text = str(i)\n",
    "    font = cv2.FONT_HERSHEY_SIMPLEX\n",
    "    size, baseline = cv2.getTextSize(text, font, 6, 5)\n",
    "    \n",
    "    org = cx-(size[0]//2), cy+(size[1]//2)\n",
    "    cv2.putText(img, text, org, font, 6, (0, 0, 0), 5)\n",
    "\n",
    "    cv2.circle(img, (cx, cy), size2, (0, 255, 255), 5)\n",
    "    size2 -= 40\n",
    "    cv2.imshow('img', img)\n",
    "    out.write(img)\n",
    "    cv2.waitKey(1000)\n",
    "    \n",
    "cv2.waitKey(1000)\n",
    "out.release()\n",
    "cv2.destroyAllWindows()"
   ]
  },
  {
   "cell_type": "code",
   "execution_count": null,
   "id": "46609fdc",
   "metadata": {},
   "outputs": [],
   "source": []
  }
 ],
 "metadata": {
  "kernelspec": {
   "display_name": "Python 3",
   "language": "python",
   "name": "python3"
  },
  "language_info": {
   "codemirror_mode": {
    "name": "ipython",
    "version": 3
   },
   "file_extension": ".py",
   "mimetype": "text/x-python",
   "name": "python",
   "nbconvert_exporter": "python",
   "pygments_lexer": "ipython3",
   "version": "3.8.8"
  }
 },
 "nbformat": 4,
 "nbformat_minor": 5
}
