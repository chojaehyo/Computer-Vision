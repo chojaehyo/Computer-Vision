{
 "cells": [
  {
   "cell_type": "markdown",
   "id": "d71cd183",
   "metadata": {},
   "source": [
    "## 키보드 이벤트 처리"
   ]
  },
  {
   "cell_type": "code",
   "execution_count": 1,
   "id": "6f5945f7",
   "metadata": {},
   "outputs": [],
   "source": [
    "import numpy as np\n",
    "import cv2"
   ]
  },
  {
   "cell_type": "code",
   "execution_count": 8,
   "id": "633cf6fd",
   "metadata": {},
   "outputs": [],
   "source": [
    "width, height = 512, 512\n",
    "x, y = width//2, height//2\n",
    "R = 50\n",
    "\n",
    "direction = 0  # 0:right, 1:down, 2:left, 3:up\n",
    "\n",
    "while True:\n",
    "    key = cv2.waitKeyEx(30)\n",
    "    if key == 0x1B: # ESC\n",
    "        break\n",
    "        \n",
    "    # 방향키처리\n",
    "    elif key == 0x270000: # right\n",
    "        direction = 0\n",
    "    elif key == 0x280000: # down\n",
    "        direction = 1\n",
    "    elif key == 0x250000: # left\n",
    "        direction = 2\n",
    "    elif key == 0x260000: # up\n",
    "        direction = 3\n",
    "\n",
    "    # 방향에 맞게 x, y 좌표 설정\n",
    "    if direction == 0:\n",
    "        x += 10 # 픽셀\n",
    "    elif direction == 1:\n",
    "        y += 10 \n",
    "    elif direction == 2:\n",
    "        x -= 10\n",
    "    else:\n",
    "        y -= 10\n",
    "        \n",
    "    # 경계 확인\n",
    "    if x < R:\n",
    "        x = R\n",
    "        direction = 0\n",
    "    if x > width - R:\n",
    "        x = width - R\n",
    "        direction = 2\n",
    "        \n",
    "    if y < R:\n",
    "        y = R\n",
    "        direction = 1\n",
    "    if y > height - R:\n",
    "        y = height - R\n",
    "        direction = 3\n",
    "    \n",
    "    \n",
    "    # 지우기, 그리기\n",
    "    img = np.zeros((width, height, 3), np.uint8) + 255\n",
    "    \n",
    "    cv2.circle(img, (x, y), R, (0, 0, 255), -1)\n",
    "    cv2.imshow('img', img)\n",
    "\n",
    "    \n",
    "cv2.destroyAllWindows()"
   ]
  },
  {
   "cell_type": "markdown",
   "id": "cbcefef4",
   "metadata": {},
   "source": [
    "## 마우스 이벤트 처리"
   ]
  },
  {
   "cell_type": "code",
   "execution_count": 10,
   "id": "def66fcd",
   "metadata": {},
   "outputs": [],
   "source": [
    "img = np.zeros((512, 512, 3), np.uint8) + 255\n",
    "\n",
    "def onMouse(event, x, y, flags, param):\n",
    "    if event == cv2.EVENT_LBUTTONDOWN:\n",
    "        if flags & cv2.EVENT_FLAG_SHIFTKEY: # 마우스 이벤트는 event로 받고 그 외 키보드 이벤트 같은 것들은 flags로 받음\n",
    "            cv2.rectangle(param[0], (x-5, y-5), (x+5, y+5), (0, 255, 0))\n",
    "        else:\n",
    "            cv2.circle(param[0], (x, y), 5, (255, 0, 0), 3)\n",
    "    \n",
    "    elif event == cv2.EVENT_RBUTTONDOWN:\n",
    "        cv2.circle(param[0], (x, y), 5, (0, 0, 255), 3)\n",
    "        \n",
    "    elif event == cv2.EVENT_LBUTTONDBLCLK:\n",
    "        param[0] = np.zeros((512, 512, 3), np.uint8) + 255\n",
    "        \n",
    "    cv2.imshow('img', param[0])\n",
    "\n",
    "cv2.imshow('img', img)\n",
    "\n",
    "cv2.setMouseCallback('img', onMouse, [img])\n",
    "cv2.waitKey()\n",
    "cv2.destroyAllWindows()"
   ]
  },
  {
   "cell_type": "markdown",
   "id": "e069e548",
   "metadata": {},
   "source": [
    "## 트랙바 이벤트 처리"
   ]
  },
  {
   "cell_type": "code",
   "execution_count": 11,
   "id": "b8574dd2",
   "metadata": {},
   "outputs": [],
   "source": [
    "def onChange(pos):\n",
    "    global img\n",
    "    r = cv2.getTrackbarPos('R', 'img')\n",
    "    g = cv2.getTrackbarPos('G', 'img')\n",
    "    b = cv2.getTrackbarPos('B', 'img')\n",
    "    \n",
    "    img[:] = (b, g, r)\n",
    "    cv2.imshow('img', img)\n",
    "\n",
    "img = np.zeros((512, 512, 3), np.uint8) + 255\n",
    "cv2.imshow('img', img)\n",
    "\n",
    "cv2.createTrackbar('R', 'img', 0, 255, onChange)\n",
    "cv2.createTrackbar('G', 'img', 0, 255, onChange)\n",
    "cv2.createTrackbar('B', 'img', 0, 255, onChange)\n",
    "\n",
    "cv2.setTrackbarPos('B', 'img', 255) # 안 정하면 0으로 들어감\n",
    "\n",
    "cv2.waitKey()\n",
    "cv2.destroyAllWindows()"
   ]
  },
  {
   "cell_type": "markdown",
   "id": "20d6d085",
   "metadata": {},
   "source": [
    "## OpenCV 기본연산"
   ]
  },
  {
   "cell_type": "markdown",
   "id": "26ae93c3",
   "metadata": {},
   "source": [
    "* 형상(shape), 자료형(dtype) 확인"
   ]
  },
  {
   "cell_type": "code",
   "execution_count": 5,
   "id": "ae11589f",
   "metadata": {},
   "outputs": [],
   "source": [
    "img = cv2.imread('./data/lena.jpg') # cv2.IMREAD_COLOR=true"
   ]
  },
  {
   "cell_type": "code",
   "execution_count": 6,
   "id": "28a1c9b2",
   "metadata": {},
   "outputs": [
    {
     "data": {
      "text/plain": [
       "numpy.ndarray"
      ]
     },
     "execution_count": 6,
     "metadata": {},
     "output_type": "execute_result"
    }
   ],
   "source": [
    "type(img)"
   ]
  },
  {
   "cell_type": "code",
   "execution_count": 7,
   "id": "cedb2438",
   "metadata": {},
   "outputs": [
    {
     "data": {
      "text/plain": [
       "3"
      ]
     },
     "execution_count": 7,
     "metadata": {},
     "output_type": "execute_result"
    }
   ],
   "source": [
    "img.ndim"
   ]
  },
  {
   "cell_type": "code",
   "execution_count": 8,
   "id": "083c574c",
   "metadata": {},
   "outputs": [
    {
     "data": {
      "text/plain": [
       "dtype('uint8')"
      ]
     },
     "execution_count": 8,
     "metadata": {},
     "output_type": "execute_result"
    }
   ],
   "source": [
    "img.dtype"
   ]
  },
  {
   "cell_type": "code",
   "execution_count": 9,
   "id": "deff0233",
   "metadata": {},
   "outputs": [],
   "source": [
    "img = img.astype(np.int32)"
   ]
  },
  {
   "cell_type": "code",
   "execution_count": 10,
   "id": "d4006f18",
   "metadata": {},
   "outputs": [
    {
     "data": {
      "text/plain": [
       "dtype('int32')"
      ]
     },
     "execution_count": 10,
     "metadata": {},
     "output_type": "execute_result"
    }
   ],
   "source": [
    "img.dtype"
   ]
  },
  {
   "cell_type": "code",
   "execution_count": 11,
   "id": "a5b061a1",
   "metadata": {},
   "outputs": [],
   "source": [
    "img = np.uint8(img)"
   ]
  },
  {
   "cell_type": "code",
   "execution_count": 12,
   "id": "0996764e",
   "metadata": {},
   "outputs": [
    {
     "data": {
      "text/plain": [
       "dtype('uint8')"
      ]
     },
     "execution_count": 12,
     "metadata": {},
     "output_type": "execute_result"
    }
   ],
   "source": [
    "img.dtype"
   ]
  },
  {
   "cell_type": "markdown",
   "id": "6360e5a5",
   "metadata": {},
   "source": [
    "* 모양 변경하기"
   ]
  },
  {
   "cell_type": "code",
   "execution_count": 13,
   "id": "f11c09d3",
   "metadata": {},
   "outputs": [],
   "source": [
    "img = cv2.imread('./data/lena.jpg', cv2.IMREAD_GRAYSCALE)"
   ]
  },
  {
   "cell_type": "code",
   "execution_count": 14,
   "id": "c530260b",
   "metadata": {},
   "outputs": [
    {
     "data": {
      "text/plain": [
       "(512, 512)"
      ]
     },
     "execution_count": 14,
     "metadata": {},
     "output_type": "execute_result"
    }
   ],
   "source": [
    "img.shape"
   ]
  },
  {
   "cell_type": "code",
   "execution_count": 15,
   "id": "2c628647",
   "metadata": {},
   "outputs": [],
   "source": [
    "img = img.flatten()"
   ]
  },
  {
   "cell_type": "code",
   "execution_count": 16,
   "id": "cb520d4b",
   "metadata": {},
   "outputs": [
    {
     "data": {
      "text/plain": [
       "(262144,)"
      ]
     },
     "execution_count": 16,
     "metadata": {},
     "output_type": "execute_result"
    }
   ],
   "source": [
    "img.shape"
   ]
  },
  {
   "cell_type": "code",
   "execution_count": 17,
   "id": "104ed745",
   "metadata": {},
   "outputs": [],
   "source": [
    "img = img.reshape((512, 512))"
   ]
  },
  {
   "cell_type": "code",
   "execution_count": 18,
   "id": "b0154667",
   "metadata": {},
   "outputs": [
    {
     "data": {
      "text/plain": [
       "(512, 512)"
      ]
     },
     "execution_count": 18,
     "metadata": {},
     "output_type": "execute_result"
    }
   ],
   "source": [
    "img.shape"
   ]
  },
  {
   "cell_type": "code",
   "execution_count": 19,
   "id": "469988a3",
   "metadata": {},
   "outputs": [
    {
     "data": {
      "text/plain": [
       "2"
      ]
     },
     "execution_count": 19,
     "metadata": {},
     "output_type": "execute_result"
    }
   ],
   "source": [
    "img.ndim"
   ]
  },
  {
   "cell_type": "code",
   "execution_count": 20,
   "id": "fd68661b",
   "metadata": {},
   "outputs": [],
   "source": [
    "img = img.flatten()"
   ]
  },
  {
   "cell_type": "code",
   "execution_count": 21,
   "id": "768b045b",
   "metadata": {},
   "outputs": [
    {
     "data": {
      "text/plain": [
       "(262144,)"
      ]
     },
     "execution_count": 21,
     "metadata": {},
     "output_type": "execute_result"
    }
   ],
   "source": [
    "img.shape"
   ]
  },
  {
   "cell_type": "code",
   "execution_count": 22,
   "id": "a1bffeb3",
   "metadata": {},
   "outputs": [],
   "source": [
    "img = img.reshape((-1, 512, 512))"
   ]
  },
  {
   "cell_type": "code",
   "execution_count": 23,
   "id": "62fc6357",
   "metadata": {},
   "outputs": [
    {
     "data": {
      "text/plain": [
       "(1, 512, 512)"
      ]
     },
     "execution_count": 23,
     "metadata": {},
     "output_type": "execute_result"
    }
   ],
   "source": [
    "img.shape"
   ]
  },
  {
   "cell_type": "code",
   "execution_count": 24,
   "id": "f7364e11",
   "metadata": {},
   "outputs": [
    {
     "data": {
      "text/plain": [
       "3"
      ]
     },
     "execution_count": 24,
     "metadata": {},
     "output_type": "execute_result"
    }
   ],
   "source": [
    "img.ndim"
   ]
  },
  {
   "cell_type": "code",
   "execution_count": 25,
   "id": "4cfff63d",
   "metadata": {},
   "outputs": [],
   "source": [
    "cv2.imshow('img', img[0])\n",
    "cv2.waitKey()\n",
    "cv2.destroyAllWindows()"
   ]
  },
  {
   "cell_type": "markdown",
   "id": "0c84d0d0",
   "metadata": {},
   "source": [
    "* 화소 접급 1 : 그레이 스케일영상"
   ]
  },
  {
   "cell_type": "code",
   "execution_count": 38,
   "id": "176f7f67",
   "metadata": {},
   "outputs": [],
   "source": [
    "img = cv2.imread('./data/lena.jpg', cv2.IMREAD_GRAYSCALE)\n",
    "\n",
    "img[100:400, 200:300] = 0\n",
    "\n",
    "cv2.imshow('img2', img)\n",
    "cv2.waitKey()\n",
    "cv2.destroyAllWindows()"
   ]
  },
  {
   "cell_type": "markdown",
   "id": "f40033f2",
   "metadata": {},
   "source": [
    "* 화소 접근 2 : 컬러 영상"
   ]
  },
  {
   "cell_type": "code",
   "execution_count": 39,
   "id": "9c08a44f",
   "metadata": {},
   "outputs": [],
   "source": [
    "img = cv2.imread('./data/lena.jpg', cv2.IMREAD_COLOR) # cv2.IMREAD_COLOR 안써도 똑같음\n",
    "\n",
    "img[100:400, 200:300] = [255, 0, 0]\n",
    "\n",
    "cv2.imshow('img2', img)\n",
    "cv2.waitKey()\n",
    "cv2.destroyAllWindows()"
   ]
  },
  {
   "cell_type": "markdown",
   "id": "e77ec154",
   "metadata": {},
   "source": [
    "* 화소 접근 3 : 채널 접근"
   ]
  },
  {
   "cell_type": "code",
   "execution_count": 41,
   "id": "fa68c030",
   "metadata": {},
   "outputs": [],
   "source": [
    "img = cv2.imread('./data/lena.jpg', cv2.IMREAD_COLOR) # cv2.IMREAD_COLOR 안써도 똑같음\n",
    "\n",
    "img[100:400, 200:300, 0] = 150  # Blue channel\n",
    "img[100:400, 200:300, 1] = 0    # G\n",
    "img[100:400, 200:300, 2] = 150  # R\n",
    "\n",
    "cv2.imshow('img2', img)\n",
    "cv2.waitKey()\n",
    "cv2.destroyAllWindows()"
   ]
  },
  {
   "cell_type": "markdown",
   "id": "52e1442d",
   "metadata": {},
   "source": [
    "* 마우스로 ROI 영역 지정 : selectROI()"
   ]
  },
  {
   "cell_type": "code",
   "execution_count": 3,
   "id": "80578fdf",
   "metadata": {},
   "outputs": [],
   "source": [
    "src = cv2.imread('./data/lena.jpg', cv2.IMREAD_GRAYSCALE)\n",
    "roi = cv2.selectROI(src)\n",
    "\n",
    "img = src[roi[1]:roi[1]+roi[3], roi[0]:roi[0]+roi[2]]\n",
    "\n",
    "cv2.imshow('img', img)\n",
    "cv2.waitKey()\n",
    "cv2.destroyAllWindows()"
   ]
  },
  {
   "cell_type": "markdown",
   "id": "c9c5b412",
   "metadata": {},
   "source": [
    "* roi : x, y, width, height"
   ]
  },
  {
   "cell_type": "code",
   "execution_count": 45,
   "id": "1c77d0c4",
   "metadata": {},
   "outputs": [
    {
     "data": {
      "text/plain": [
       "(116, 106, 102, 104)"
      ]
     },
     "execution_count": 45,
     "metadata": {},
     "output_type": "execute_result"
    }
   ],
   "source": [
    "roi"
   ]
  },
  {
   "cell_type": "markdown",
   "id": "09ba9ea5",
   "metadata": {},
   "source": [
    "* 마우스로 다중 ROI 영역 지정 : selectROIs()"
   ]
  },
  {
   "cell_type": "code",
   "execution_count": 3,
   "id": "e665b1ea",
   "metadata": {},
   "outputs": [],
   "source": [
    "src = cv2.imread('./data/lena.jpg', cv2.IMREAD_GRAYSCALE)\n",
    "rois = cv2.selectROIs('src', src, False, True) # False: 격자 표시 안함, True: 사각형이 중심부터 그려짐\n",
    "\n",
    "for r in rois:\n",
    "    cv2.rectangle(src, (r[0], r[1]), (r[0]+r[2], r[1]+r[3]), 255)\n",
    "    \n",
    "    \n",
    "cv2.imshow('src', src)\n",
    "cv2.waitKey()\n",
    "cv2.destroyAllWindows()"
   ]
  },
  {
   "cell_type": "code",
   "execution_count": 4,
   "id": "ad4f09dd",
   "metadata": {},
   "outputs": [
    {
     "data": {
      "text/plain": [
       "array([[ 33,  32, 104,  70],\n",
       "       [167, 114, 138,  86],\n",
       "       [233, 242, 178, 128]], dtype=int32)"
      ]
     },
     "execution_count": 4,
     "metadata": {},
     "output_type": "execute_result"
    }
   ],
   "source": [
    "rois"
   ]
  },
  {
   "cell_type": "markdown",
   "id": "99e07373",
   "metadata": {},
   "source": [
    "* 블록 평균 영상"
   ]
  },
  {
   "cell_type": "markdown",
   "id": "7a2be28f",
   "metadata": {},
   "source": [
    "* 흑백"
   ]
  },
  {
   "cell_type": "code",
   "execution_count": 4,
   "id": "a733c96e",
   "metadata": {},
   "outputs": [],
   "source": [
    "src = cv2.imread('./data/lena.jpg', cv2.IMREAD_GRAYSCALE)\n",
    "dst = np.zeros(src.shape, dtype=src.dtype)\n",
    "\n",
    "N = 4\n",
    "height, width = src.shape\n",
    "\n",
    "h = height // N\n",
    "w = width // N\n",
    "\n",
    "for i in range(N):\n",
    "    for j in range(N):\n",
    "        x = j*w\n",
    "        y = i*h\n",
    "        roi = src[y:y+h, x:x+w]\n",
    "        dst[y:y+h, x:x+w] = roi.mean()\n",
    "        \n",
    "cv2.imshow('dst', dst)\n",
    "cv2.waitKey()\n",
    "cv2.destroyAllWindows()"
   ]
  },
  {
   "cell_type": "markdown",
   "id": "56731733",
   "metadata": {},
   "source": [
    "* 컬러"
   ]
  },
  {
   "cell_type": "code",
   "execution_count": 5,
   "id": "863ec3dd",
   "metadata": {},
   "outputs": [],
   "source": [
    "src = cv2.imread('./data/lena.jpg')\n",
    "dst = np.zeros(src.shape, dtype=src.dtype)\n",
    "\n",
    "N = 128\n",
    "height, width= src.shape[:2]\n",
    "\n",
    "h = height // N\n",
    "w = width // N\n",
    "\n",
    "for i in range(N):\n",
    "    for j in range(N):\n",
    "        x = j*w\n",
    "        y = i*h\n",
    "        roi = src[y:y+h, x:x+w]\n",
    "        dst[y:y+h, x:x+w, 0] = roi[:, :, 0].mean()\n",
    "        dst[y:y+h, x:x+w, 1] = roi[:, :, 1].mean()\n",
    "        dst[y:y+h, x:x+w, 2] = roi[:, :, 2].mean()\n",
    "        \n",
    "cv2.imshow('dst', dst)\n",
    "cv2.waitKey()\n",
    "cv2.destroyAllWindows()"
   ]
  },
  {
   "cell_type": "markdown",
   "id": "19428577",
   "metadata": {},
   "source": [
    "* 영상 복사"
   ]
  },
  {
   "cell_type": "code",
   "execution_count": 6,
   "id": "f6c929ba",
   "metadata": {},
   "outputs": [],
   "source": [
    "src = cv2.imread('./data/lena.jpg', cv2.IMREAD_GRAYSCALE)\n",
    "\n",
    "#dst = src       #참조\n",
    "dst = src.copy() # 복사\n",
    "\n",
    "dst[100:400, 200:300] = 0\n",
    "\n",
    "cv2.imshow('src', src)\n",
    "cv2.imshow('dst', dst)\n",
    "cv2.waitKey()\n",
    "cv2.destroyAllWindows()"
   ]
  },
  {
   "cell_type": "code",
   "execution_count": 7,
   "id": "17b5752a",
   "metadata": {},
   "outputs": [],
   "source": [
    "src = cv2.imread('./data/lena.jpg', cv2.IMREAD_GRAYSCALE)\n",
    "\n",
    "shape = src.shape[0], src.shape[1], 3\n",
    "dst = np.zeros(shape, dtype=np.uint8)\n",
    "\n",
    "# dst[:, :, 0] = src\n",
    "dst[:, :, 1] = src\n",
    "dst[:, :, 2] = src\n",
    "\n",
    "cv2.imshow('src', src)\n",
    "cv2.imshow('dst', dst)\n",
    "cv2.waitKey()\n",
    "cv2.destroyAllWindows()"
   ]
  },
  {
   "cell_type": "markdown",
   "id": "2edc8103",
   "metadata": {},
   "source": [
    "* 채널 분리"
   ]
  },
  {
   "cell_type": "code",
   "execution_count": 32,
   "id": "a3df6401",
   "metadata": {},
   "outputs": [],
   "source": [
    "src = cv2.imread('./data/lena.jpg')"
   ]
  },
  {
   "cell_type": "code",
   "execution_count": 33,
   "id": "7a24e470",
   "metadata": {},
   "outputs": [],
   "source": [
    "dst = cv2.split(src)"
   ]
  },
  {
   "cell_type": "code",
   "execution_count": 36,
   "id": "51f3a285",
   "metadata": {},
   "outputs": [
    {
     "data": {
      "text/plain": [
       "3"
      ]
     },
     "execution_count": 36,
     "metadata": {},
     "output_type": "execute_result"
    }
   ],
   "source": [
    "len(dst)"
   ]
  },
  {
   "cell_type": "code",
   "execution_count": 40,
   "id": "0751b9bd",
   "metadata": {},
   "outputs": [
    {
     "data": {
      "text/plain": [
       "(512, 512)"
      ]
     },
     "execution_count": 40,
     "metadata": {},
     "output_type": "execute_result"
    }
   ],
   "source": [
    "dst[0].shape #blue channel"
   ]
  },
  {
   "cell_type": "code",
   "execution_count": 41,
   "id": "7f4ba1fe",
   "metadata": {},
   "outputs": [
    {
     "data": {
      "text/plain": [
       "(512, 512)"
      ]
     },
     "execution_count": 41,
     "metadata": {},
     "output_type": "execute_result"
    }
   ],
   "source": [
    "dst[1].shape #green channel"
   ]
  },
  {
   "cell_type": "code",
   "execution_count": 42,
   "id": "98dca82c",
   "metadata": {},
   "outputs": [
    {
     "data": {
      "text/plain": [
       "(512, 512)"
      ]
     },
     "execution_count": 42,
     "metadata": {},
     "output_type": "execute_result"
    }
   ],
   "source": [
    "dst[2].shape #red channel"
   ]
  },
  {
   "cell_type": "code",
   "execution_count": 47,
   "id": "6d0a5251",
   "metadata": {},
   "outputs": [],
   "source": [
    "cv2.imshow('src', src)\n",
    "cv2.imshow('blue', dst[0])\n",
    "cv2.imshow('green', dst[1])\n",
    "cv2.imshow('red', dst[2])\n",
    "\n",
    "cv2.waitKey()\n",
    "cv2.destroyAllWindows()"
   ]
  },
  {
   "cell_type": "code",
   "execution_count": 50,
   "id": "acd70c5b",
   "metadata": {},
   "outputs": [],
   "source": [
    "src = cv2.imread('./data/candies.png')\n",
    "\n",
    "b, g, r = cv2.split(src)\n",
    "\n",
    "cv2.imshow('src', src)\n",
    "cv2.imshow('blue', b)\n",
    "cv2.imshow('green', g)\n",
    "cv2.imshow('red', r)\n",
    "\n",
    "cv2.waitKey()\n",
    "cv2.destroyAllWindows()"
   ]
  },
  {
   "cell_type": "markdown",
   "id": "47d7f569",
   "metadata": {},
   "source": [
    "* 채널 병합"
   ]
  },
  {
   "cell_type": "code",
   "execution_count": 51,
   "id": "dc863314",
   "metadata": {},
   "outputs": [],
   "source": [
    "merge = cv2.merge([b, g, r])\n",
    "\n",
    "cv2.imshow('merge', merge)\n",
    "cv2.waitKey()\n",
    "cv2.destroyAllWindows()"
   ]
  },
  {
   "cell_type": "markdown",
   "id": "65e97429",
   "metadata": {},
   "source": [
    "* 색 변환"
   ]
  },
  {
   "cell_type": "code",
   "execution_count": 52,
   "id": "2ceaa732",
   "metadata": {},
   "outputs": [],
   "source": [
    "src = cv2.imread('./data/lena.jpg')"
   ]
  },
  {
   "cell_type": "code",
   "execution_count": 53,
   "id": "a9a2bd0b",
   "metadata": {},
   "outputs": [],
   "source": [
    "gray = cv2.cvtColor(src, cv2.COLOR_BGR2GRAY)\n",
    "yCrCb = cv2.cvtColor(src, cv2.COLOR_BGR2YCrCb)\n",
    "hsv = cv2.cvtColor(src, cv2.COLOR_BGR2HSV)"
   ]
  },
  {
   "cell_type": "code",
   "execution_count": 67,
   "id": "cdc435f0",
   "metadata": {},
   "outputs": [],
   "source": [
    "cv2.imshow('gray', gray)\n",
    "cv2.imshow('yCrCb', yCrCb)\n",
    "cv2.imshow('hsv', hsv)\n",
    "\n",
    "cv2.waitKey()\n",
    "cv2.destroyAllWindows()"
   ]
  },
  {
   "cell_type": "code",
   "execution_count": 55,
   "id": "98a88be7",
   "metadata": {},
   "outputs": [],
   "source": [
    "bgr = cv2.cvtColor(gray, cv2.COLOR_GRAY2BGR)\n",
    "cv2.imshow('bgr', bgr)\n",
    "\n",
    "cv2.waitKey()\n",
    "cv2.destroyAllWindows()"
   ]
  },
  {
   "cell_type": "code",
   "execution_count": 56,
   "id": "fe1edac3",
   "metadata": {
    "scrolled": false
   },
   "outputs": [
    {
     "data": {
      "text/plain": [
       "(512, 512, 3)"
      ]
     },
     "execution_count": 56,
     "metadata": {},
     "output_type": "execute_result"
    }
   ],
   "source": [
    "bgr.shape"
   ]
  },
  {
   "cell_type": "code",
   "execution_count": 60,
   "id": "515b939c",
   "metadata": {},
   "outputs": [
    {
     "data": {
      "text/plain": [
       "262144"
      ]
     },
     "execution_count": 60,
     "metadata": {},
     "output_type": "execute_result"
    }
   ],
   "source": [
    "(bgr[:, :, 2] == gray).sum()"
   ]
  },
  {
   "cell_type": "markdown",
   "id": "fa75cfb5",
   "metadata": {},
   "source": [
    "* 영상 크기 변환"
   ]
  },
  {
   "cell_type": "code",
   "execution_count": 76,
   "id": "f11e49ce",
   "metadata": {},
   "outputs": [],
   "source": [
    "src = cv2.imread(\"./data/lena.jpg\", cv2.IMREAD_GRAYSCALE)"
   ]
  },
  {
   "cell_type": "code",
   "execution_count": 78,
   "id": "a5a2e7d3",
   "metadata": {},
   "outputs": [],
   "source": [
    "dst = cv2.resize(src, dsize=(320, 240))\n",
    "\n",
    "cv2.imshow('dst', dst)\n",
    "cv2.waitKey()\n",
    "cv2.destroyAllWindows()"
   ]
  },
  {
   "cell_type": "code",
   "execution_count": 79,
   "id": "0fd2352f",
   "metadata": {},
   "outputs": [],
   "source": [
    "dst1 = cv2.resize(src, dsize=(320, 240))\n",
    "dst2 = cv2.resize(src, dsize=(0, 0), fx=1.5, fy=1.2) # 직접 사이즈 지정 안하고 배수로 지정\n",
    "\n",
    "cv2.imshow('dst1', dst1)\n",
    "cv2.imshow('dst2', dst2)\n",
    "cv2.waitKey()\n",
    "cv2.destroyAllWindows()"
   ]
  },
  {
   "cell_type": "markdown",
   "id": "ece3746c",
   "metadata": {},
   "source": [
    "* 영상 회전 변환"
   ]
  },
  {
   "cell_type": "code",
   "execution_count": 80,
   "id": "6b0ce97e",
   "metadata": {},
   "outputs": [],
   "source": [
    "src = cv2.imread(\"./data/lena.jpg\")\n",
    "\n",
    "dst1 = cv2.rotate(src, cv2.ROTATE_90_CLOCKWISE)\n",
    "dst2 = cv2.rotate(src, cv2.ROTATE_90_COUNTERCLOCKWISE)\n",
    "\n",
    "cv2.imshow('dst1', dst1)\n",
    "cv2.imshow('dst2', dst2)\n",
    "cv2.waitKey()\n",
    "cv2.destroyAllWindows()"
   ]
  },
  {
   "cell_type": "code",
   "execution_count": 84,
   "id": "b82c0cd8",
   "metadata": {},
   "outputs": [],
   "source": [
    "src = cv2.imread(\"./data/lena.jpg\")\n",
    "\n",
    "height, width, channels = src.shape\n",
    "\n",
    "M1 = cv2.getRotationMatrix2D((height/2, width/2), 45, 1)\n",
    "M2 = cv2.getRotationMatrix2D((height/2, width/2), -45, 1)\n",
    "M3 = cv2.getRotationMatrix2D((height/2, width/2), 45, 0.5)  # 45도 회전 후 크기 변환\n",
    "\n",
    "dst1 = cv2.warpAffine(src, M1, (width, height))\n",
    "dst2 = cv2.warpAffine(src, M2, (width, height))\n",
    "dst3 = cv2.warpAffine(src, M3, (width, height))\n",
    "\n",
    "cv2.imshow('dst1', dst1)\n",
    "cv2.imshow('dst2', dst2)\n",
    "cv2.imshow('dst3', dst3)\n",
    "cv2.waitKey()\n",
    "cv2.destroyAllWindows()"
   ]
  },
  {
   "cell_type": "markdown",
   "id": "b5c77fb1",
   "metadata": {},
   "source": [
    "* 영상 어파인 변환(모서리 3점)"
   ]
  },
  {
   "cell_type": "code",
   "execution_count": 87,
   "id": "a407422d",
   "metadata": {},
   "outputs": [],
   "source": [
    "src = cv2.imread('./data/tekapo.bmp')\n",
    "height, width, channels = src.shape\n",
    "\n",
    "srcPts = np.float32([[0, 0], [width-1, 0], [width-1, height-1]])\n",
    "dstPts = np.float32([[50, 50], [width-100, 100], [width-50, height-50]])\n",
    "\n",
    "M = cv2.getAffineTransform(srcPts, dstPts)\n",
    "dst = cv2.warpAffine(src, M, (width, height))\n",
    "\n",
    "cv2.imshow('src', src)\n",
    "cv2.imshow('dst', dst)\n",
    "cv2.waitKey()\n",
    "cv2.destroyAllWindows()"
   ]
  },
  {
   "cell_type": "code",
   "execution_count": 88,
   "id": "07309066",
   "metadata": {},
   "outputs": [
    {
     "data": {
      "text/plain": [
       "dtype('float64')"
      ]
     },
     "execution_count": 88,
     "metadata": {},
     "output_type": "execute_result"
    }
   ],
   "source": [
    "M.dtype"
   ]
  },
  {
   "cell_type": "markdown",
   "id": "3274db0e",
   "metadata": {},
   "source": [
    "* 영상 이동 변환"
   ]
  },
  {
   "cell_type": "code",
   "execution_count": 89,
   "id": "61452076",
   "metadata": {},
   "outputs": [],
   "source": [
    "src = cv2.imread('./data/tekapo.bmp')\n",
    "height, width, channels = src.shape\n",
    "\n",
    "M = np.array([[1, 0, 150],\n",
    "             [0, 1, 100]], dtype=np.float64)\n",
    "\n",
    "dst = cv2.warpAffine(src, M, (width, height))\n",
    "\n",
    "cv2.imshow('src', src)\n",
    "cv2.imshow('dst', dst)\n",
    "cv2.waitKey()\n",
    "cv2.destroyAllWindows()"
   ]
  },
  {
   "cell_type": "markdown",
   "id": "a803f1f9",
   "metadata": {},
   "source": [
    "* 영상 대칭 변환"
   ]
  },
  {
   "cell_type": "code",
   "execution_count": 6,
   "id": "d524f841",
   "metadata": {},
   "outputs": [],
   "source": [
    "src = cv2.imread('./data/eastsea.bmp')\n",
    "\n",
    "dst1 = cv2.flip(src, 1)\n",
    "dst2 = cv2.flip(src, 0)\n",
    "dst3 = cv2.flip(src, -1)\n",
    "\n",
    "cv2.imshow('src', src)\n",
    "cv2.imshow('dst1', dst1)\n",
    "cv2.imshow('dst2', dst2)\n",
    "cv2.imshow('dst3', dst3)\n",
    "cv2.waitKey()\n",
    "cv2.destroyAllWindows()"
   ]
  },
  {
   "cell_type": "markdown",
   "id": "5bfe3f38",
   "metadata": {},
   "source": [
    "* 1 : 좌우 대칭\n",
    "* 0 : 상하 대칭\n",
    "* -1 : 좌우, 상하 대칭"
   ]
  },
  {
   "cell_type": "markdown",
   "id": "d4f0dc6b",
   "metadata": {},
   "source": [
    "* 영상 투시 변환"
   ]
  },
  {
   "cell_type": "code",
   "execution_count": 8,
   "id": "5bcbc559",
   "metadata": {},
   "outputs": [],
   "source": [
    "cnt = 0\n",
    "\n",
    "w = 200\n",
    "h = 300\n",
    "\n",
    "srcQuad = np.zeros((4, 2), dtype=np.float32)\n",
    "dstQuad = np.array([[0, 0], [w-1, 0], [w-1, h-1], [0, h-1]], dtype=np.float32)\n",
    "\n",
    "def onMouse(event, x, y, flags, param):\n",
    "    global cnt\n",
    "    \n",
    "    if event == cv2.EVENT_LBUTTONDOWN:\n",
    "        if cnt < 4:\n",
    "            srcQuad[cnt] = np.array([x, y], dtype=np.float32)\n",
    "            cv2.circle(param[0], (x, y), 5, (255, 0, 0), 2)\n",
    "            cv2.imshow('src', param[0])\n",
    "            cnt += 1\n",
    "            \n",
    "        if cnt == 4:\n",
    "            M = cv2.getPerspectiveTransform(srcQuad, dstQuad)\n",
    "            dst = cv2.warpPerspective(param[0], M, (w, h))\n",
    "            cv2.imshow('dst', dst)\n",
    "            \n",
    "src = cv2.imread('./data/card.bmp')\n",
    "cv2.imshow('src', src)\n",
    "cv2.setMouseCallback('src', onMouse, [src])\n",
    "cv2.waitKey()\n",
    "cv2.destroyAllWindows()"
   ]
  },
  {
   "cell_type": "markdown",
   "id": "cbb7353a",
   "metadata": {},
   "source": [
    "* 내 코드"
   ]
  },
  {
   "cell_type": "code",
   "execution_count": 7,
   "id": "d5b73fda",
   "metadata": {},
   "outputs": [],
   "source": [
    "src = cv2.imread('./data/card.bmp')\n",
    "\n",
    "srcPts = np.zeros((4, 2), dtype=np.float32)\n",
    "cnt = 0\n",
    "def onMouse(event, x, y, flags, param):\n",
    "    global cnt\n",
    "    if event == cv2.EVENT_LBUTTONDOWN:\n",
    "        cv2.circle(param[0], (x, y), 5, (0, 0, 255), 3)\n",
    "        srcPts[cnt] = [x, y]\n",
    "        cnt+= 1\n",
    "        \n",
    "        if cnt == 4:\n",
    "            w = 200\n",
    "            h = 300\n",
    "            dstPts = np.float32([[0, 0], [w, 0],\n",
    "                                [w, h], [0, h]])\n",
    "            \n",
    "            M = cv2.getPerspectiveTransform(srcPts, dstPts)\n",
    "\n",
    "            dst = cv2.warpPerspective(src, M, (w, h))\n",
    "            cv2.imshow('dst', dst)\n",
    "            \n",
    "    cv2.imshow('src', param[0])        \n",
    "\n",
    "cv2.imshow('src', src)\n",
    "cv2.setMouseCallback('src', onMouse, [src])\n",
    "cv2.waitKey()\n",
    "cv2.destroyAllWindows()"
   ]
  }
 ],
 "metadata": {
  "kernelspec": {
   "display_name": "Python 3",
   "language": "python",
   "name": "python3"
  },
  "language_info": {
   "codemirror_mode": {
    "name": "ipython",
    "version": 3
   },
   "file_extension": ".py",
   "mimetype": "text/x-python",
   "name": "python",
   "nbconvert_exporter": "python",
   "pygments_lexer": "ipython3",
   "version": "3.8.8"
  }
 },
 "nbformat": 4,
 "nbformat_minor": 5
}
